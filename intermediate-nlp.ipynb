{
 "cells": [
  {
   "cell_type": "code",
   "execution_count": 1,
   "id": "a538a580",
   "metadata": {
    "_cell_guid": "b1076dfc-b9ad-4769-8c92-a6c4dae69d19",
    "_uuid": "8f2839f25d086af736a60e9eeb907d3b93b6e0e5",
    "execution": {
     "iopub.execute_input": "2021-10-08T08:38:33.398153Z",
     "iopub.status.busy": "2021-10-08T08:38:33.396979Z",
     "iopub.status.idle": "2021-10-08T08:38:33.401214Z",
     "shell.execute_reply": "2021-10-08T08:38:33.400588Z",
     "shell.execute_reply.started": "2021-09-29T05:45:56.170789Z"
    },
    "papermill": {
     "duration": 0.060831,
     "end_time": "2021-10-08T08:38:33.401372",
     "exception": false,
     "start_time": "2021-10-08T08:38:33.340541",
     "status": "completed"
    },
    "tags": []
   },
   "outputs": [],
   "source": [
    "# # This Python 3 environment comes with many helpful analytics libraries installed\n",
    "# # It is defined by the kaggle/python Docker image: https://github.com/kaggle/docker-python\n",
    "# # For example, here's several helpful packages to load\n",
    "\n",
    "# import numpy as np # linear algebra\n",
    "# import pandas as pd # data processing, CSV file I/O (e.g. pd.read_csv)\n",
    "\n",
    "# # Input data files are available in the read-only \"../input/\" directory\n",
    "# # For example, running this (by clicking run or pressing Shift+Enter) will list all files under the input directory\n",
    "\n",
    "# import os\n",
    "# for dirname, _, filenames in os.walk('/kaggle/input'):\n",
    "#     for filename in filenames:\n",
    "#         print(os.path.join(dirname, filename))\n",
    "\n",
    "# # You can write up to 20GB to the current directory (/kaggle/working/) that gets preserved as output when you create a version using \"Save & Run All\" \n",
    "# # You can also write temporary files to /kaggle/temp/, but they won't be saved outside of the current session"
   ]
  },
  {
   "cell_type": "code",
   "execution_count": 2,
   "id": "596d7b5e",
   "metadata": {
    "execution": {
     "iopub.execute_input": "2021-10-08T08:38:33.502185Z",
     "iopub.status.busy": "2021-10-08T08:38:33.501504Z",
     "iopub.status.idle": "2021-10-08T08:38:43.588125Z",
     "shell.execute_reply": "2021-10-08T08:38:43.588672Z",
     "shell.execute_reply.started": "2021-10-03T14:56:45.109073Z"
    },
    "papermill": {
     "duration": 10.138566,
     "end_time": "2021-10-08T08:38:43.588861",
     "exception": false,
     "start_time": "2021-10-08T08:38:33.450295",
     "status": "completed"
    },
    "tags": []
   },
   "outputs": [
    {
     "name": "stderr",
     "output_type": "stream",
     "text": [
      "2021-10-08 08:38:37.881993: W tensorflow/stream_executor/platform/default/dso_loader.cc:60] Could not load dynamic library 'libcudart.so.11.0'; dlerror: libcudart.so.11.0: cannot open shared object file: No such file or directory; LD_LIBRARY_PATH: /opt/conda/lib\n",
      "2021-10-08 08:38:37.882106: I tensorflow/stream_executor/cuda/cudart_stub.cc:29] Ignore above cudart dlerror if you do not have a GPU set up on your machine.\n"
     ]
    }
   ],
   "source": [
    "#Importing dependencies\n",
    "\n",
    "import pandas as pd\n",
    "import numpy as np\n",
    "import os\n",
    "import re\n",
    "from datetime import datetime\n",
    "\n",
    "from sklearn.preprocessing import OneHotEncoder,OrdinalEncoder\n",
    "from sklearn.model_selection import train_test_split\n",
    "from sklearn.metrics import accuracy_score as acc\n",
    "from sklearn.pipeline import make_pipeline as pipe\n",
    "from sklearn.feature_extraction.text import CountVectorizer,TfidfTransformer\n",
    "import nltk\n",
    "from nltk.corpus import stopwords\n",
    "from nltk.stem import WordNetLemmatizer as LemmaT\n",
    "\n",
    "from xgboost.sklearn import XGBClassifier as XGB\n",
    "from sklearn.ensemble import RandomForestClassifier as RF, AdaBoostClassifier as ADA, VotingClassifier as Vote, StackingClassifier as Stack\n",
    "from sklearn.svm import SVC\n",
    "from sklearn.naive_bayes import GaussianNB,MultinomialNB\n",
    "from sklearn.neighbors import KNeighborsClassifier\n",
    "from transformers import pipeline\n",
    "\n",
    "import tensorflow as tf\n",
    "from tensorflow.keras import Sequential,layers\n",
    "%matplotlib inline\n",
    "import fasttext\n",
    "\n",
    "import tensorflow_hub as hub\n",
    "# import tensorflow_text as text\n"
   ]
  },
  {
   "cell_type": "code",
   "execution_count": 3,
   "id": "ba9adcba",
   "metadata": {
    "execution": {
     "iopub.execute_input": "2021-10-08T08:38:43.692254Z",
     "iopub.status.busy": "2021-10-08T08:38:43.691512Z",
     "iopub.status.idle": "2021-10-08T08:38:43.775854Z",
     "shell.execute_reply": "2021-10-08T08:38:43.776464Z",
     "shell.execute_reply.started": "2021-10-03T08:06:42.439506Z"
    },
    "papermill": {
     "duration": 0.137927,
     "end_time": "2021-10-08T08:38:43.776643",
     "exception": false,
     "start_time": "2021-10-08T08:38:43.638716",
     "status": "completed"
    },
    "tags": []
   },
   "outputs": [
    {
     "data": {
      "text/html": [
       "<div>\n",
       "<style scoped>\n",
       "    .dataframe tbody tr th:only-of-type {\n",
       "        vertical-align: middle;\n",
       "    }\n",
       "\n",
       "    .dataframe tbody tr th {\n",
       "        vertical-align: top;\n",
       "    }\n",
       "\n",
       "    .dataframe thead th {\n",
       "        text-align: right;\n",
       "    }\n",
       "</style>\n",
       "<table border=\"1\" class=\"dataframe\">\n",
       "  <thead>\n",
       "    <tr style=\"text-align: right;\">\n",
       "      <th></th>\n",
       "      <th>File_name</th>\n",
       "      <th>Industry</th>\n",
       "      <th>Sub-category</th>\n",
       "    </tr>\n",
       "  </thead>\n",
       "  <tbody>\n",
       "    <tr>\n",
       "      <th>0</th>\n",
       "      <td>32577.txt</td>\n",
       "      <td>Power Industry</td>\n",
       "      <td>Green Energy</td>\n",
       "    </tr>\n",
       "    <tr>\n",
       "      <th>1</th>\n",
       "      <td>12871.txt</td>\n",
       "      <td>Health Industry</td>\n",
       "      <td>Diagnostic</td>\n",
       "    </tr>\n",
       "    <tr>\n",
       "      <th>2</th>\n",
       "      <td>10812.txt</td>\n",
       "      <td>Health Industry</td>\n",
       "      <td>Pharma</td>\n",
       "    </tr>\n",
       "    <tr>\n",
       "      <th>3</th>\n",
       "      <td>21494.txt</td>\n",
       "      <td>Manufacturing Industry</td>\n",
       "      <td>Production</td>\n",
       "    </tr>\n",
       "    <tr>\n",
       "      <th>4</th>\n",
       "      <td>3744.txt</td>\n",
       "      <td>Automobile Industry</td>\n",
       "      <td>Heavy Vehicles</td>\n",
       "    </tr>\n",
       "  </tbody>\n",
       "</table>\n",
       "</div>"
      ],
      "text/plain": [
       "   File_name                Industry    Sub-category\n",
       "0  32577.txt          Power Industry    Green Energy\n",
       "1  12871.txt         Health Industry      Diagnostic\n",
       "2  10812.txt         Health Industry          Pharma\n",
       "3  21494.txt  Manufacturing Industry      Production\n",
       "4   3744.txt     Automobile Industry  Heavy Vehicles"
      ]
     },
     "execution_count": 3,
     "metadata": {},
     "output_type": "execute_result"
    }
   ],
   "source": [
    "#reading csv\n",
    "\n",
    "import pandas as pd\n",
    "import numpy as np\n",
    "\n",
    "train_data=pd.read_csv(\"../input/intermediate-nlp-mlbuzz/intermediate/dataset/train.csv\")\n",
    "train_data.head()"
   ]
  },
  {
   "cell_type": "code",
   "execution_count": 4,
   "id": "e91258e9",
   "metadata": {
    "execution": {
     "iopub.execute_input": "2021-10-08T08:38:43.880140Z",
     "iopub.status.busy": "2021-10-08T08:38:43.878603Z",
     "iopub.status.idle": "2021-10-08T08:38:43.883014Z",
     "shell.execute_reply": "2021-10-08T08:38:43.882484Z",
     "shell.execute_reply.started": "2021-10-03T08:06:43.900247Z"
    },
    "papermill": {
     "duration": 0.056835,
     "end_time": "2021-10-08T08:38:43.883178",
     "exception": false,
     "start_time": "2021-10-08T08:38:43.826343",
     "status": "completed"
    },
    "tags": []
   },
   "outputs": [],
   "source": [
    "# train_data.info()"
   ]
  },
  {
   "cell_type": "code",
   "execution_count": 5,
   "id": "d54e85f7",
   "metadata": {
    "execution": {
     "iopub.execute_input": "2021-10-08T08:38:43.994699Z",
     "iopub.status.busy": "2021-10-08T08:38:43.993820Z",
     "iopub.status.idle": "2021-10-08T08:41:36.595013Z",
     "shell.execute_reply": "2021-10-08T08:41:36.594480Z",
     "shell.execute_reply.started": "2021-10-03T08:06:45.079923Z"
    },
    "papermill": {
     "duration": 172.662479,
     "end_time": "2021-10-08T08:41:36.595180",
     "exception": false,
     "start_time": "2021-10-08T08:38:43.932701",
     "status": "completed"
    },
    "tags": []
   },
   "outputs": [
    {
     "name": "stdout",
     "output_type": "stream",
     "text": [
      "maxlen: 6472\n"
     ]
    },
    {
     "data": {
      "text/html": [
       "<div>\n",
       "<style scoped>\n",
       "    .dataframe tbody tr th:only-of-type {\n",
       "        vertical-align: middle;\n",
       "    }\n",
       "\n",
       "    .dataframe tbody tr th {\n",
       "        vertical-align: top;\n",
       "    }\n",
       "\n",
       "    .dataframe thead th {\n",
       "        text-align: right;\n",
       "    }\n",
       "</style>\n",
       "<table border=\"1\" class=\"dataframe\">\n",
       "  <thead>\n",
       "    <tr style=\"text-align: right;\">\n",
       "      <th></th>\n",
       "      <th>File_name</th>\n",
       "      <th>Industry</th>\n",
       "      <th>Sub-category</th>\n",
       "      <th>Article</th>\n",
       "    </tr>\n",
       "  </thead>\n",
       "  <tbody>\n",
       "    <tr>\n",
       "      <th>0</th>\n",
       "      <td>32577.txt</td>\n",
       "      <td>Power Industry</td>\n",
       "      <td>Green Energy</td>\n",
       "      <td>natural gas produce around half emission coal ...</td>\n",
       "    </tr>\n",
       "    <tr>\n",
       "      <th>1</th>\n",
       "      <td>12871.txt</td>\n",
       "      <td>Health Industry</td>\n",
       "      <td>Diagnostic</td>\n",
       "      <td>sanctuary santa maria della steccata in bc cit...</td>\n",
       "    </tr>\n",
       "    <tr>\n",
       "      <th>2</th>\n",
       "      <td>10812.txt</td>\n",
       "      <td>Health Industry</td>\n",
       "      <td>Pharma</td>\n",
       "      <td>in pure bismarck system access insurance seen ...</td>\n",
       "    </tr>\n",
       "    <tr>\n",
       "      <th>3</th>\n",
       "      <td>21494.txt</td>\n",
       "      <td>Manufacturing Industry</td>\n",
       "      <td>Production</td>\n",
       "      <td>voting right volkswagen integrating scania man...</td>\n",
       "    </tr>\n",
       "    <tr>\n",
       "      <th>4</th>\n",
       "      <td>3744.txt</td>\n",
       "      <td>Automobile Industry</td>\n",
       "      <td>Heavy Vehicles</td>\n",
       "      <td>lb required upper stage payload perform final ...</td>\n",
       "    </tr>\n",
       "  </tbody>\n",
       "</table>\n",
       "</div>"
      ],
      "text/plain": [
       "   File_name                Industry    Sub-category  \\\n",
       "0  32577.txt          Power Industry    Green Energy   \n",
       "1  12871.txt         Health Industry      Diagnostic   \n",
       "2  10812.txt         Health Industry          Pharma   \n",
       "3  21494.txt  Manufacturing Industry      Production   \n",
       "4   3744.txt     Automobile Industry  Heavy Vehicles   \n",
       "\n",
       "                                             Article  \n",
       "0  natural gas produce around half emission coal ...  \n",
       "1  sanctuary santa maria della steccata in bc cit...  \n",
       "2  in pure bismarck system access insurance seen ...  \n",
       "3  voting right volkswagen integrating scania man...  \n",
       "4  lb required upper stage payload perform final ...  "
      ]
     },
     "execution_count": 5,
     "metadata": {},
     "output_type": "execute_result"
    }
   ],
   "source": [
    "# reading the articles\n",
    "\n",
    "\n",
    "\n",
    "\n",
    "en_stops=set(stopwords.words('english'))\n",
    "\n",
    "folder_train=\"../input/intermediate-nlp-mlbuzz/intermediate/dataset/train\"\n",
    "\n",
    "train_data[\"Article\"]=[\"\"]*len(train_data)\n",
    "\n",
    "lemmaT=LemmaT()\n",
    "\n",
    "mx=0\n",
    "\n",
    "for i in range(len(train_data)):\n",
    "    rel_path=train_data[\"File_name\"].iloc[i]\n",
    "    fpath=os.path.join(folder_train,rel_path)\n",
    "    with open(fpath,'r') as f:\n",
    "        art=f.read()\n",
    "        proc_art=''\n",
    "        \n",
    "        #preprocessing: Removing stop words and special characters\n",
    "        \n",
    "        art=re.sub('[^A-Za-z\\s]',' ',art)  #removing all non alphanumeric character with space\n",
    "        \n",
    "        for wd in art.split():\n",
    "            wd=wd.strip()\n",
    "            if wd not in en_stops:\n",
    "                wd=wd.lower()\n",
    "                wd=lemmaT.lemmatize(wd)\n",
    "                if len(wd)>1:\n",
    "                    proc_art+=wd+\" \"\n",
    "\n",
    "        proc_art=proc_art.strip()\n",
    "        train_data[\"Article\"].iloc[i]=proc_art\n",
    "        \n",
    "        mx=max(mx,len(proc_art))\n",
    "\n",
    "print(\"maxlen:\",mx)\n",
    "\n",
    "train_data.head()\n",
    "        \n",
    "        \n",
    "       \n",
    "    "
   ]
  },
  {
   "cell_type": "code",
   "execution_count": 6,
   "id": "7d0e9f24",
   "metadata": {
    "execution": {
     "iopub.execute_input": "2021-10-08T08:41:36.720195Z",
     "iopub.status.busy": "2021-10-08T08:41:36.719229Z",
     "iopub.status.idle": "2021-10-08T08:41:38.011648Z",
     "shell.execute_reply": "2021-10-08T08:41:38.012456Z",
     "shell.execute_reply.started": "2021-10-03T08:08:27.831569Z"
    },
    "papermill": {
     "duration": 1.349094,
     "end_time": "2021-10-08T08:41:38.012673",
     "exception": false,
     "start_time": "2021-10-08T08:41:36.663579",
     "status": "completed"
    },
    "tags": []
   },
   "outputs": [],
   "source": [
    "#intermediate save\n",
    "train_data.to_csv(\"processed_data.csv\",index=False)"
   ]
  },
  {
   "cell_type": "code",
   "execution_count": 7,
   "id": "50ec4535",
   "metadata": {
    "execution": {
     "iopub.execute_input": "2021-10-08T08:41:38.120999Z",
     "iopub.status.busy": "2021-10-08T08:41:38.120303Z",
     "iopub.status.idle": "2021-10-08T08:41:38.126023Z",
     "shell.execute_reply": "2021-10-08T08:41:38.125341Z",
     "shell.execute_reply.started": "2021-10-03T08:08:29.136973Z"
    },
    "papermill": {
     "duration": 0.061499,
     "end_time": "2021-10-08T08:41:38.126212",
     "exception": false,
     "start_time": "2021-10-08T08:41:38.064713",
     "status": "completed"
    },
    "tags": []
   },
   "outputs": [
    {
     "data": {
      "text/plain": [
       "'household without electricity typically use kerosene lamp lighting creates toxic fume wind turbine also placed ocean wind steadier stronger land construction maintenance cost higher the positive negative made different material positive exhibiting reduction potential negative oxidation potential other effort included formation research facility united state seri nrel japan nedo germany fraunhofer ise ej yr energy used residential building overall energy investment largely economical decision better make investment decision based systematical evaluation option operational improvement energy efficiency onsite generation energy storage manufacturing solar panel requires rare earth element producing low level radioactive waste mining process the industry symbol sdg started january the company small market cap established st pierre current ceo robert hodges current year revenue cr net market valuation cr current share price'"
      ]
     },
     "execution_count": 7,
     "metadata": {},
     "output_type": "execute_result"
    }
   ],
   "source": [
    "train_data[\"Article\"].iloc[5]"
   ]
  },
  {
   "cell_type": "code",
   "execution_count": 8,
   "id": "56e3469c",
   "metadata": {
    "execution": {
     "iopub.execute_input": "2021-10-08T08:41:38.233761Z",
     "iopub.status.busy": "2021-10-08T08:41:38.233039Z",
     "iopub.status.idle": "2021-10-08T08:41:38.235567Z",
     "shell.execute_reply": "2021-10-08T08:41:38.236051Z",
     "shell.execute_reply.started": "2021-10-03T14:56:55.10468Z"
    },
    "papermill": {
     "duration": 0.057197,
     "end_time": "2021-10-08T08:41:38.236272",
     "exception": false,
     "start_time": "2021-10-08T08:41:38.179075",
     "status": "completed"
    },
    "tags": []
   },
   "outputs": [],
   "source": [
    "# import pandas as pd\n",
    "# import numpy as np\n",
    "# train_data=pd.read_csv(\"../input/intermediate-nlp-mlbuzz/processed_data.csv\")\n",
    "\n",
    "# train_data.head()"
   ]
  },
  {
   "cell_type": "code",
   "execution_count": 9,
   "id": "604076bb",
   "metadata": {
    "execution": {
     "iopub.execute_input": "2021-10-08T08:41:38.340402Z",
     "iopub.status.busy": "2021-10-08T08:41:38.339729Z",
     "iopub.status.idle": "2021-10-08T08:41:38.342715Z",
     "shell.execute_reply": "2021-10-08T08:41:38.343236Z",
     "shell.execute_reply.started": "2021-10-03T14:56:55.893588Z"
    },
    "papermill": {
     "duration": 0.05685,
     "end_time": "2021-10-08T08:41:38.343402",
     "exception": false,
     "start_time": "2021-10-08T08:41:38.286552",
     "status": "completed"
    },
    "tags": []
   },
   "outputs": [],
   "source": [
    "# print(train_data[\"Article\"][3])"
   ]
  },
  {
   "cell_type": "code",
   "execution_count": 10,
   "id": "58fd6d68",
   "metadata": {
    "execution": {
     "iopub.execute_input": "2021-10-08T08:41:38.448077Z",
     "iopub.status.busy": "2021-10-08T08:41:38.447442Z",
     "iopub.status.idle": "2021-10-08T08:41:38.450192Z",
     "shell.execute_reply": "2021-10-08T08:41:38.450656Z",
     "shell.execute_reply.started": "2021-10-03T14:56:55.905007Z"
    },
    "papermill": {
     "duration": 0.057113,
     "end_time": "2021-10-08T08:41:38.450842",
     "exception": false,
     "start_time": "2021-10-08T08:41:38.393729",
     "status": "completed"
    },
    "tags": []
   },
   "outputs": [],
   "source": [
    "# x=train_data[\"Article\"]\n",
    "# y=train_data[\"Sub-category\"]\n",
    "\n",
    "# from sklearn.preprocessing import OneHotEncoder,OrdinalEncoder\n",
    "# enc1hot = OneHotEncoder(handle_unknown='ignore')\n",
    "# enc_ord = OrdinalEncoder()\n",
    "\n",
    "# y1hot=enc1hot.fit_transform(y.to_numpy().reshape(-1,1))\n",
    "# y_ord=enc_ord.fit_transform(y.to_numpy().reshape(-1,1))"
   ]
  },
  {
   "cell_type": "code",
   "execution_count": 11,
   "id": "1bc704b4",
   "metadata": {
    "execution": {
     "iopub.execute_input": "2021-10-08T08:41:38.556633Z",
     "iopub.status.busy": "2021-10-08T08:41:38.555602Z",
     "iopub.status.idle": "2021-10-08T08:41:38.558402Z",
     "shell.execute_reply": "2021-10-08T08:41:38.557871Z",
     "shell.execute_reply.started": "2021-09-29T09:49:27.031696Z"
    },
    "papermill": {
     "duration": 0.057251,
     "end_time": "2021-10-08T08:41:38.558542",
     "exception": false,
     "start_time": "2021-10-08T08:41:38.501291",
     "status": "completed"
    },
    "tags": []
   },
   "outputs": [],
   "source": [
    "# # importing bert\n",
    "\n",
    "# from transformers import DistilBertTokenizer, DistilBertModel\n",
    "\n",
    "# tokenizer = DistilBertTokenizer.from_pretrained('distilbert-base-uncased')\n",
    "# bert_model = DistilBertModel.from_pretrained('distilbert-base-uncased')"
   ]
  },
  {
   "cell_type": "code",
   "execution_count": 12,
   "id": "67745bf1",
   "metadata": {
    "execution": {
     "iopub.execute_input": "2021-10-08T08:41:38.663188Z",
     "iopub.status.busy": "2021-10-08T08:41:38.662538Z",
     "iopub.status.idle": "2021-10-08T08:41:38.664434Z",
     "shell.execute_reply": "2021-10-08T08:41:38.664906Z",
     "shell.execute_reply.started": "2021-09-29T09:49:35.211965Z"
    },
    "papermill": {
     "duration": 0.056286,
     "end_time": "2021-10-08T08:41:38.665067",
     "exception": false,
     "start_time": "2021-10-08T08:41:38.608781",
     "status": "completed"
    },
    "tags": []
   },
   "outputs": [],
   "source": [
    "# xenc=tokenizer.batch_encode_plus(x,add_special_tokens=True,truncation=True,padding=\"max_length\",max_length=512,return_attention_mask=True,return_tensors='pt')\n",
    "# print(xenc.shape)"
   ]
  },
  {
   "cell_type": "code",
   "execution_count": 13,
   "id": "16cccb2d",
   "metadata": {
    "execution": {
     "iopub.execute_input": "2021-10-08T08:41:38.770081Z",
     "iopub.status.busy": "2021-10-08T08:41:38.769451Z",
     "iopub.status.idle": "2021-10-08T08:41:38.771319Z",
     "shell.execute_reply": "2021-10-08T08:41:38.771798Z",
     "shell.execute_reply.started": "2021-09-29T10:06:54.613811Z"
    },
    "papermill": {
     "duration": 0.056617,
     "end_time": "2021-10-08T08:41:38.771966",
     "exception": false,
     "start_time": "2021-10-08T08:41:38.715349",
     "status": "completed"
    },
    "tags": []
   },
   "outputs": [],
   "source": [
    "# xenc=xenc['input_ids']\n",
    "\n",
    "# import torch\n",
    "# import tensorflow as tf\n",
    "\n",
    "# xenc = xenc.numpy()\n"
   ]
  },
  {
   "cell_type": "code",
   "execution_count": 14,
   "id": "a361c6eb",
   "metadata": {
    "execution": {
     "iopub.execute_input": "2021-10-08T08:41:38.880011Z",
     "iopub.status.busy": "2021-10-08T08:41:38.879004Z",
     "iopub.status.idle": "2021-10-08T08:41:38.882205Z",
     "shell.execute_reply": "2021-10-08T08:41:38.881663Z",
     "shell.execute_reply.started": "2021-09-29T10:12:00.948974Z"
    },
    "papermill": {
     "duration": 0.059136,
     "end_time": "2021-10-08T08:41:38.882354",
     "exception": false,
     "start_time": "2021-10-08T08:41:38.823218",
     "status": "completed"
    },
    "tags": []
   },
   "outputs": [],
   "source": [
    "# y1hot_np=y1hot.toarray()\n",
    "# y1hot_np.shape"
   ]
  },
  {
   "cell_type": "code",
   "execution_count": 15,
   "id": "2bb8e5da",
   "metadata": {
    "execution": {
     "iopub.execute_input": "2021-10-08T08:41:38.993877Z",
     "iopub.status.busy": "2021-10-08T08:41:38.993115Z",
     "iopub.status.idle": "2021-10-08T08:41:38.995141Z",
     "shell.execute_reply": "2021-10-08T08:41:38.995683Z",
     "shell.execute_reply.started": "2021-09-29T05:45:56.809642Z"
    },
    "papermill": {
     "duration": 0.062161,
     "end_time": "2021-10-08T08:41:38.995855",
     "exception": false,
     "start_time": "2021-10-08T08:41:38.933694",
     "status": "completed"
    },
    "tags": []
   },
   "outputs": [],
   "source": [
    "\n",
    "# st=[\"I am going to the moon and drive in rocket\",\"Please dont mind\",\"I am going\"]\n",
    "# enc=tokenizer.encode_plus(st[0],add_special_tokens=True,truncation=True,padding=\"max_length\",max_length=512,return_attention_mask=True,return_tensors='pt')\n",
    "# b_enc=bert_model(**enc)[0]\n",
    "# print(b_enc.shape)\n"
   ]
  },
  {
   "cell_type": "code",
   "execution_count": 16,
   "id": "0070ec70",
   "metadata": {
    "execution": {
     "iopub.execute_input": "2021-10-08T08:41:39.100976Z",
     "iopub.status.busy": "2021-10-08T08:41:39.100267Z",
     "iopub.status.idle": "2021-10-08T08:41:39.103388Z",
     "shell.execute_reply": "2021-10-08T08:41:39.103924Z",
     "shell.execute_reply.started": "2021-09-29T05:45:56.823377Z"
    },
    "papermill": {
     "duration": 0.057799,
     "end_time": "2021-10-08T08:41:39.104095",
     "exception": false,
     "start_time": "2021-10-08T08:41:39.046296",
     "status": "completed"
    },
    "tags": []
   },
   "outputs": [],
   "source": [
    "# cls_enc=[]\n",
    "# # nump_cls_enc=np.empty((0,512))\n",
    "# for i in range(len(x)):\n",
    "#     st=train_data[\"Article\"].iloc[i]\n",
    "#     enc=tokenizer.encode_plus(st,add_special_tokens=True,max_length=512,truncation=True,padding=\"max_length\",return_attention_mask=True,return_tensors='pt')\n",
    "# #     b_enc=bert_model(**enc)[0]\n",
    "#     cls_enc.append(enc)\n",
    "# #     np.append(nump_cls_enc,enc,axis=0)"
   ]
  },
  {
   "cell_type": "code",
   "execution_count": 17,
   "id": "3f4ee04a",
   "metadata": {
    "execution": {
     "iopub.execute_input": "2021-10-08T08:41:39.207465Z",
     "iopub.status.busy": "2021-10-08T08:41:39.206843Z",
     "iopub.status.idle": "2021-10-08T08:41:39.210025Z",
     "shell.execute_reply": "2021-10-08T08:41:39.210663Z",
     "shell.execute_reply.started": "2021-09-29T05:45:56.844314Z"
    },
    "papermill": {
     "duration": 0.05624,
     "end_time": "2021-10-08T08:41:39.210831",
     "exception": false,
     "start_time": "2021-10-08T08:41:39.154591",
     "status": "completed"
    },
    "tags": []
   },
   "outputs": [],
   "source": [
    "# X=[np.array(i[\"input_ids\"]) for i in cls_enc]\n",
    "# X=np.array(X).reshape((31779,512))\n",
    "# print(X.shape,y1hot.shape)"
   ]
  },
  {
   "cell_type": "code",
   "execution_count": 18,
   "id": "365b4df6",
   "metadata": {
    "execution": {
     "iopub.execute_input": "2021-10-08T08:41:39.316254Z",
     "iopub.status.busy": "2021-10-08T08:41:39.315546Z",
     "iopub.status.idle": "2021-10-08T08:41:39.318490Z",
     "shell.execute_reply": "2021-10-08T08:41:39.319008Z",
     "shell.execute_reply.started": "2021-10-03T14:57:01.92835Z"
    },
    "papermill": {
     "duration": 0.056546,
     "end_time": "2021-10-08T08:41:39.319207",
     "exception": false,
     "start_time": "2021-10-08T08:41:39.262661",
     "status": "completed"
    },
    "tags": []
   },
   "outputs": [],
   "source": [
    "# #test train split\n",
    "\n",
    "# xtrain,xtest,ytrain,ytest=train_test_split(x,y_ord,test_size=0.4,random_state=7)\n",
    "# print(len(xtrain),len(xtest),len(ytrain),len(ytest))"
   ]
  },
  {
   "cell_type": "code",
   "execution_count": 19,
   "id": "4b6da00d",
   "metadata": {
    "execution": {
     "iopub.execute_input": "2021-10-08T08:41:39.422598Z",
     "iopub.status.busy": "2021-10-08T08:41:39.421967Z",
     "iopub.status.idle": "2021-10-08T08:41:39.426190Z",
     "shell.execute_reply": "2021-10-08T08:41:39.425673Z",
     "shell.execute_reply.started": "2021-09-29T13:26:54.493185Z"
    },
    "papermill": {
     "duration": 0.05687,
     "end_time": "2021-10-08T08:41:39.426331",
     "exception": false,
     "start_time": "2021-10-08T08:41:39.369461",
     "status": "completed"
    },
    "tags": []
   },
   "outputs": [],
   "source": [
    "# #SVM\n",
    "\n",
    "\n",
    "\n",
    "# base_model=pipe(CountVectorizer(ngram_range=(1,3)),SVC())\n",
    "# base_model.fit(x,y_ord)\n",
    "# ypred=base_model.predict(xtest)\n",
    "# print(acc(ypred,ytest))\n",
    "\n",
    "\n",
    "# base_model=pipe(CountVectorizer(ngram_range=(1,3)),TfidfTransformer(),SVC())\n",
    "# base_model.fit(x,y_ord)\n",
    "# ypred=base_model.predict(xtest)\n",
    "# print(acc(ypred,ytest))"
   ]
  },
  {
   "cell_type": "code",
   "execution_count": 20,
   "id": "a5ac9daa",
   "metadata": {
    "execution": {
     "iopub.execute_input": "2021-10-08T08:41:39.533123Z",
     "iopub.status.busy": "2021-10-08T08:41:39.532485Z",
     "iopub.status.idle": "2021-10-08T08:41:39.534240Z",
     "shell.execute_reply": "2021-10-08T08:41:39.534699Z",
     "shell.execute_reply.started": "2021-09-29T05:46:05.056934Z"
    },
    "papermill": {
     "duration": 0.057217,
     "end_time": "2021-10-08T08:41:39.534865",
     "exception": false,
     "start_time": "2021-10-08T08:41:39.477648",
     "status": "completed"
    },
    "tags": []
   },
   "outputs": [],
   "source": [
    "# #XGB\n",
    "\n",
    "\n",
    "# from xgboost.sklearn import XGBClassifier as XGB\n",
    "# from sklearn.ensemble import RandomForestClassifier as RF, AdaBoostClassifier as ADA, StackingClassifier as Stack\n",
    "# from sklearn.pipeline import make_pipeline as pipe\n",
    "# from sklearn.feature_extraction.text import CountVectorizer\n",
    "\n",
    "\n",
    "# base_model=pipe(CountVectorizer(ngram_range=(1,3)),XGB())\n",
    "# base_model.fit(xtrain,ytrain)\n",
    "# ypred=base_model.predict(xtest)\n",
    "# print(acc(ypred,ytest))\n",
    "\n",
    "# base_model=pipe(CountVectorizer(ngram_range=(1,3)),TfidfTransformer(),XGB())\n",
    "# base_model.fit(xtrain,ytrain)\n",
    "# ypred=base_model.predict(xtest)\n",
    "# print(acc(ypred,ytest))"
   ]
  },
  {
   "cell_type": "code",
   "execution_count": 21,
   "id": "4ec9c160",
   "metadata": {
    "execution": {
     "iopub.execute_input": "2021-10-08T08:41:39.640505Z",
     "iopub.status.busy": "2021-10-08T08:41:39.639787Z",
     "iopub.status.idle": "2021-10-08T08:41:39.643018Z",
     "shell.execute_reply": "2021-10-08T08:41:39.643556Z",
     "shell.execute_reply.started": "2021-09-29T05:46:05.059211Z"
    },
    "papermill": {
     "duration": 0.057863,
     "end_time": "2021-10-08T08:41:39.643726",
     "exception": false,
     "start_time": "2021-10-08T08:41:39.585863",
     "status": "completed"
    },
    "tags": []
   },
   "outputs": [],
   "source": [
    "# #ADA\n",
    "\n",
    "\n",
    "# base_model=pipe(CountVectorizer(ngram_range=(1,3)),ADA())\n",
    "# base_model.fit(xtrain,ytrain)\n",
    "# ypred=base_model.predict(xtest)\n",
    "# print(acc(ypred,ytest))\n",
    "\n",
    "\n",
    "# base_model=pipe(CountVectorizer(ngram_range=(1,3)),TfidfTransformer(),ADA())\n",
    "# base_model.fit(xtrain,ytrain)\n",
    "# ypred=base_model.predict(xtest)\n",
    "# print(acc(ypred,ytest))"
   ]
  },
  {
   "cell_type": "code",
   "execution_count": 22,
   "id": "a8176bc8",
   "metadata": {
    "execution": {
     "iopub.execute_input": "2021-10-08T08:41:39.748512Z",
     "iopub.status.busy": "2021-10-08T08:41:39.747863Z",
     "iopub.status.idle": "2021-10-08T08:41:39.752035Z",
     "shell.execute_reply": "2021-10-08T08:41:39.751488Z",
     "shell.execute_reply.started": "2021-09-29T05:46:05.061682Z"
    },
    "papermill": {
     "duration": 0.057613,
     "end_time": "2021-10-08T08:41:39.752204",
     "exception": false,
     "start_time": "2021-10-08T08:41:39.694591",
     "status": "completed"
    },
    "tags": []
   },
   "outputs": [],
   "source": [
    "# #RF\n",
    "\n",
    "# base_model=pipe(CountVectorizer(ngram_range=(1,3)),RF())\n",
    "# base_model.fit(xtrain,ytrain)\n",
    "# ypred=base_model.predict(xtest)\n",
    "# print(acc(ypred,ytest))\n",
    "\n",
    "\n",
    "# base_model=pipe(CountVectorizer(ngram_range=(1,3)),TfidfTransformer(),RF())\n",
    "# base_model.fit(xtrain,ytrain)\n",
    "# ypred=base_model.predict(xtest)\n",
    "# print(acc(ypred,ytest))"
   ]
  },
  {
   "cell_type": "code",
   "execution_count": 23,
   "id": "d8aa6ec3",
   "metadata": {
    "execution": {
     "iopub.execute_input": "2021-10-08T08:41:39.858445Z",
     "iopub.status.busy": "2021-10-08T08:41:39.857754Z",
     "iopub.status.idle": "2021-10-08T08:41:39.859369Z",
     "shell.execute_reply": "2021-10-08T08:41:39.859879Z",
     "shell.execute_reply.started": "2021-09-29T05:46:05.063538Z"
    },
    "papermill": {
     "duration": 0.056672,
     "end_time": "2021-10-08T08:41:39.860043",
     "exception": false,
     "start_time": "2021-10-08T08:41:39.803371",
     "status": "completed"
    },
    "tags": []
   },
   "outputs": [],
   "source": [
    "# #Naive-Bayes\n",
    "\n",
    "# base_model=pipe(CountVectorizer(ngram_range=(1,3)),MultinomialNB())\n",
    "# base_model.fit(xtrain,ytrain)\n",
    "# ypred=base_model.predict(xtest)\n",
    "# print(acc(ypred,ytest))\n",
    "\n",
    "# base_model=pipe(CountVectorizer(ngram_range=(1,3)),TfidfTransformer(),MultinomialNB())\n",
    "# base_model.fit(xtrain,ytrain)\n",
    "# ypred=base_model.predict(xtest)\n",
    "# print(acc(ypred,ytest))"
   ]
  },
  {
   "cell_type": "code",
   "execution_count": 24,
   "id": "41871ca6",
   "metadata": {
    "execution": {
     "iopub.execute_input": "2021-10-08T08:41:39.968045Z",
     "iopub.status.busy": "2021-10-08T08:41:39.967322Z",
     "iopub.status.idle": "2021-10-08T08:41:39.970084Z",
     "shell.execute_reply": "2021-10-08T08:41:39.969577Z",
     "shell.execute_reply.started": "2021-09-29T05:46:05.06591Z"
    },
    "papermill": {
     "duration": 0.058692,
     "end_time": "2021-10-08T08:41:39.970254",
     "exception": false,
     "start_time": "2021-10-08T08:41:39.911562",
     "status": "completed"
    },
    "tags": []
   },
   "outputs": [],
   "source": [
    "# # #KNN\n",
    "\n",
    "\n",
    "# base_model=pipe(CountVectorizer(ngram_range=(1,3)),KNeighborsClassifier(n_neighbors=5))\n",
    "# base_model.fit(xtrain,ytrain)\n",
    "# ypred=base_model.predict(xtest)\n",
    "# print(acc(ypred,ytest))\n",
    "\n",
    "# base_model=pipe(CountVectorizer(ngram_range=(1,3)),TfidfTransformer(),KNeighborsClassifier(n_neighbors=5))\n",
    "# base_model.fit(xtrain,ytrain)\n",
    "# ypred=base_model.predict(xtest)\n",
    "# print(acc(ypred,ytest))\n"
   ]
  },
  {
   "cell_type": "code",
   "execution_count": 25,
   "id": "cbf99151",
   "metadata": {
    "execution": {
     "iopub.execute_input": "2021-10-08T08:41:40.075928Z",
     "iopub.status.busy": "2021-10-08T08:41:40.075242Z",
     "iopub.status.idle": "2021-10-08T08:41:40.078420Z",
     "shell.execute_reply": "2021-10-08T08:41:40.078907Z",
     "shell.execute_reply.started": "2021-10-03T14:57:07.544454Z"
    },
    "papermill": {
     "duration": 0.056992,
     "end_time": "2021-10-08T08:41:40.079075",
     "exception": false,
     "start_time": "2021-10-08T08:41:40.022083",
     "status": "completed"
    },
    "tags": []
   },
   "outputs": [],
   "source": [
    "# #Voting\n",
    "\n",
    "\n",
    "# rf=RF()\n",
    "# svm=SVC(random_state=7)\n",
    "# xgb=XGB(random_state=7)\n",
    "# models=[(\"XGB\",xgb),(\"SVM\",svm)]\n",
    "\n",
    "# base_model=pipe(CountVectorizer(ngram_range=(1,3)),Vote(models))\n",
    "# base_model.fit(x,y_ord)\n",
    "# ypred=base_model.predict(xtest)\n",
    "# print(acc(ypred,ytest))\n",
    "\n",
    "# # # base_model=pipe(CountVectorizer(ngram_range=(1,3)),TfidfTransformer(),Vote(models))\n",
    "# # # base_model.fit(xtrain,ytrain)\n",
    "# # # ypred=base_model.predict(xtest)\n",
    "# # # print(acc(ypred,ytest))"
   ]
  },
  {
   "cell_type": "code",
   "execution_count": 26,
   "id": "cc8aadc6",
   "metadata": {
    "execution": {
     "iopub.execute_input": "2021-10-08T08:41:40.186221Z",
     "iopub.status.busy": "2021-10-08T08:41:40.185441Z",
     "iopub.status.idle": "2021-10-08T08:41:40.189256Z",
     "shell.execute_reply": "2021-10-08T08:41:40.189728Z",
     "shell.execute_reply.started": "2021-09-30T04:55:04.950383Z"
    },
    "papermill": {
     "duration": 0.06035,
     "end_time": "2021-10-08T08:41:40.189920",
     "exception": false,
     "start_time": "2021-10-08T08:41:40.129570",
     "status": "completed"
    },
    "tags": []
   },
   "outputs": [],
   "source": [
    "# #stacking\n",
    "\n",
    "\n",
    "# rf=RF()\n",
    "# xgb=XGB()\n",
    "# svm=SVC()\n",
    "# models=[(\"XGB\",xgb),(\"SVM\",svm)]\n",
    "\n",
    "# base_model=pipe(CountVectorizer(ngram_range=(1,3)),Stack(models,final_estimator=XGB()))\n",
    "# base_model.fit(x,y_ord)\n",
    "# ypred=base_model.predict(xtest)\n",
    "# print(acc(ypred,ytest))\n",
    "\n",
    "\n",
    "# base_model=pipe(CountVectorizer(ngram_range=(1,3)),TfidfTransformer(),Stack(models))\n",
    "# base_model.fit(x,y_ord)\n",
    "# ypred=base_model.predict(xtest)\n",
    "# print(acc(ypred,ytest))"
   ]
  },
  {
   "cell_type": "code",
   "execution_count": 27,
   "id": "a821020a",
   "metadata": {
    "execution": {
     "iopub.execute_input": "2021-10-08T08:41:40.317634Z",
     "iopub.status.busy": "2021-10-08T08:41:40.316578Z",
     "iopub.status.idle": "2021-10-08T08:41:40.318868Z",
     "shell.execute_reply": "2021-10-08T08:41:40.318329Z",
     "shell.execute_reply.started": "2021-09-29T13:29:35.901598Z"
    },
    "papermill": {
     "duration": 0.0756,
     "end_time": "2021-10-08T08:41:40.319017",
     "exception": false,
     "start_time": "2021-10-08T08:41:40.243417",
     "status": "completed"
    },
    "tags": []
   },
   "outputs": [],
   "source": [
    "# print(acc(ypred,ytest))"
   ]
  },
  {
   "cell_type": "code",
   "execution_count": 28,
   "id": "0d2dac5e",
   "metadata": {
    "execution": {
     "iopub.execute_input": "2021-10-08T08:41:40.428349Z",
     "iopub.status.busy": "2021-10-08T08:41:40.427332Z",
     "iopub.status.idle": "2021-10-08T08:41:40.431296Z",
     "shell.execute_reply": "2021-10-08T08:41:40.431755Z",
     "shell.execute_reply.started": "2021-09-29T05:46:05.073318Z"
    },
    "papermill": {
     "duration": 0.057717,
     "end_time": "2021-10-08T08:41:40.431932",
     "exception": false,
     "start_time": "2021-10-08T08:41:40.374215",
     "status": "completed"
    },
    "tags": []
   },
   "outputs": [],
   "source": [
    "# #zero-shot\n",
    "\n",
    "# from transformers import pipeline\n",
    "# classifier = pipeline(\"zero-shot-classification\",model=\"facebook/bart-large-mnli\")\n",
    "\n",
    "# candidate_labels = ['Green Energy', 'Non-green Energy', 'Diagnostic', 'Pharma', 'Production', 'Toys', 'Food', 'Mechanical', 'Heavy Vehicles', 'Light Vehicles', 'Hardware', 'Software', 'Security']\n",
    "# ypred=[]\n",
    "# for i in range(20):\n",
    "#     sequence_to_classify = train_data[\"Article\"].iloc[i]\n",
    "#     prediction=classifier(sequence_to_classify, candidate_labels)\n",
    "#     labels=prediction['labels']\n",
    "#     score=prediction['scores']\n",
    "#     pred=np.argmax(score)\n",
    "#     pred=labels[pred]\n",
    "#     ypred.append(pred)\n",
    "#     print(\"Actual:\",y[i],\", Predicted:\",pred)\n",
    "#     if i%10==0:\n",
    "#         print(i,datetime.now())\n",
    "    \n",
    "# print(acc(ypred,y[:20]))"
   ]
  },
  {
   "cell_type": "code",
   "execution_count": 29,
   "id": "7347225e",
   "metadata": {
    "execution": {
     "iopub.execute_input": "2021-10-08T08:41:40.541811Z",
     "iopub.status.busy": "2021-10-08T08:41:40.540742Z",
     "iopub.status.idle": "2021-10-08T08:41:40.544829Z",
     "shell.execute_reply": "2021-10-08T08:41:40.545333Z",
     "shell.execute_reply.started": "2021-10-03T15:58:29.693698Z"
    },
    "papermill": {
     "duration": 0.061792,
     "end_time": "2021-10-08T08:41:40.545520",
     "exception": false,
     "start_time": "2021-10-08T08:41:40.483728",
     "status": "completed"
    },
    "tags": []
   },
   "outputs": [],
   "source": [
    "# # all the industry can be directly predicted if sub categories is known\n",
    "# ind_cat={}\n",
    "# cat_ind={}\n",
    "# for i in range(len(train_data)):\n",
    "#     ind=train_data[\"Industry\"].iloc[i]\n",
    "#     cat=train_data[\"Sub-category\"].iloc[i]\n",
    "#     if ind in ind_cat:\n",
    "#         if cat not in ind_cat[ind]:\n",
    "#             ind_cat[ind].append(cat)\n",
    "#     else:\n",
    "#         ind_cat[ind]=[cat]\n",
    "        \n",
    "#     if cat not in cat_ind:\n",
    "#         cat_ind[cat]=ind\n",
    "        \n",
    "# print(ind_cat,cat_ind)"
   ]
  },
  {
   "cell_type": "code",
   "execution_count": 30,
   "id": "ec6be8d1",
   "metadata": {
    "execution": {
     "iopub.execute_input": "2021-10-08T08:41:40.652591Z",
     "iopub.status.busy": "2021-10-08T08:41:40.651568Z",
     "iopub.status.idle": "2021-10-08T08:41:40.656629Z",
     "shell.execute_reply": "2021-10-08T08:41:40.657547Z",
     "shell.execute_reply.started": "2021-10-03T14:47:05.429232Z"
    },
    "papermill": {
     "duration": 0.059871,
     "end_time": "2021-10-08T08:41:40.657763",
     "exception": false,
     "start_time": "2021-10-08T08:41:40.597892",
     "status": "completed"
    },
    "tags": []
   },
   "outputs": [],
   "source": [
    "# #DNN\n",
    "\n",
    "# def dl_nn():\n",
    "#     model=Sequential()\n",
    "#     #model.add(layers.BatchNormalization(input_shape=(8,)))\n",
    "#     model.add(layers.Dense(512,input_shape=(None,1420510),activation=tf.keras.layers.LeakyReLU(alpha=0.01)))\n",
    "#     model.add(layers.BatchNormalization())\n",
    "#     model.add(layers.Dropout(0.25))\n",
    "#     model.add(layers.Dense(128,activation=tf.keras.layers.LeakyReLU(alpha=0.01)))\n",
    "#     model.add(layers.BatchNormalization())\n",
    "#     model.add(layers.Dropout(0.25))\n",
    "    \n",
    "# #     model.add(layers.Dense(64,activation=tf.keras.layers.LeakyReLU(alpha=0.01)))\n",
    "# #     model.add(layers.BatchNormalization())\n",
    "# #     model.add(layers.Dropout(0.25))\n",
    "# #     model.add(layers.Dense(64,activation=tf.keras.layers.LeakyReLU(alpha=0.01)))\n",
    "# #     model.add(layers.BatchNormalization())\n",
    "# #     model.add(layers.Dropout(0.25))\n",
    "# #     model.add(layers.Dense(64,activation=tf.keras.layers.LeakyReLU(alpha=0.01)))\n",
    "# #     model.add(layers.BatchNormalization())\n",
    "# #     model.add(layers.Dropout(0.25))\n",
    "    \n",
    "    \n",
    "    \n",
    "#     model.add(layers.Dense(64,activation=tf.keras.layers.LeakyReLU(alpha=0.01)))\n",
    "#     model.add(layers.BatchNormalization())\n",
    "#     model.add(layers.Dropout(0.25))\n",
    "#     model.add(layers.Dense(32,activation=tf.keras.layers.LeakyReLU(alpha=0.01)))\n",
    "#     model.add(layers.BatchNormalization())\n",
    "#     model.add(layers.Dropout(0.25))\n",
    "# #     model.add(layers.Dense(8,activation=tf.keras.layers.LeakyReLU(alpha=0.01)))\n",
    "# #     model.add(layers.BatchNormalization())\n",
    "# #     model.add(layers.Dropout(0.25))\n",
    "# #     model.add(layers.Dense(4,activation=tf.keras.layers.LeakyReLU(alpha=0.01)))\n",
    "# #     model.add(layers.BatchNormalization())\n",
    "# #     model.add(layers.Dropout(0.25))\n",
    "#     model.add(layers.Dense(1, activation='softmax'))\n",
    "    \n",
    "#     model.compile(loss='sparse_categorical_crossentropy',metrics=['accuracy'],optimizer=\"adam\")\n",
    "    \n",
    "#     return model\n",
    "\n",
    "# modelNN=dl_nn()\n",
    "# modelNN.summary()"
   ]
  },
  {
   "cell_type": "code",
   "execution_count": 31,
   "id": "a8aa2063",
   "metadata": {
    "execution": {
     "iopub.execute_input": "2021-10-08T08:41:40.768025Z",
     "iopub.status.busy": "2021-10-08T08:41:40.767100Z",
     "iopub.status.idle": "2021-10-08T08:41:40.770033Z",
     "shell.execute_reply": "2021-10-08T08:41:40.770540Z",
     "shell.execute_reply.started": "2021-10-03T14:31:48.510583Z"
    },
    "papermill": {
     "duration": 0.059272,
     "end_time": "2021-10-08T08:41:40.770711",
     "exception": false,
     "start_time": "2021-10-08T08:41:40.711439",
     "status": "completed"
    },
    "tags": []
   },
   "outputs": [],
   "source": [
    "# vectorizer=CountVectorizer(ngram_range=(1,3))\n",
    "# xenc=vectorizer.fit_transform(x)\n",
    "# xenc.shape"
   ]
  },
  {
   "cell_type": "code",
   "execution_count": 32,
   "id": "0ba5401d",
   "metadata": {
    "execution": {
     "iopub.execute_input": "2021-10-08T08:41:40.875999Z",
     "iopub.status.busy": "2021-10-08T08:41:40.875104Z",
     "iopub.status.idle": "2021-10-08T08:41:40.878113Z",
     "shell.execute_reply": "2021-10-08T08:41:40.878713Z"
    },
    "papermill": {
     "duration": 0.057309,
     "end_time": "2021-10-08T08:41:40.878901",
     "exception": false,
     "start_time": "2021-10-08T08:41:40.821592",
     "status": "completed"
    },
    "tags": []
   },
   "outputs": [],
   "source": [
    "# type(xenc.toarray())"
   ]
  },
  {
   "cell_type": "code",
   "execution_count": 33,
   "id": "d9a62fe8",
   "metadata": {
    "execution": {
     "iopub.execute_input": "2021-10-08T08:41:40.985697Z",
     "iopub.status.busy": "2021-10-08T08:41:40.985023Z",
     "iopub.status.idle": "2021-10-08T08:41:40.987738Z",
     "shell.execute_reply": "2021-10-08T08:41:40.988284Z",
     "shell.execute_reply.started": "2021-10-03T14:48:51.559334Z"
    },
    "papermill": {
     "duration": 0.056556,
     "end_time": "2021-10-08T08:41:40.988458",
     "exception": false,
     "start_time": "2021-10-08T08:41:40.931902",
     "status": "completed"
    },
    "tags": []
   },
   "outputs": [],
   "source": [
    "# callback=tf.keras.callbacks.EarlyStopping(monitor='val_accuracy',min_delta=0.01,patience=10,restore_best_weights=True)\n",
    "# history=modelNN.fit(xenc,y_ord,batch_size=16,callbacks=[callback],epochs=200,shuffle=True)\n",
    "\n"
   ]
  },
  {
   "cell_type": "code",
   "execution_count": 34,
   "id": "bb80b46a",
   "metadata": {
    "execution": {
     "iopub.execute_input": "2021-10-08T08:41:41.095217Z",
     "iopub.status.busy": "2021-10-08T08:41:41.094497Z",
     "iopub.status.idle": "2021-10-08T08:41:41.097473Z",
     "shell.execute_reply": "2021-10-08T08:41:41.097950Z",
     "shell.execute_reply.started": "2021-09-29T09:52:47.213045Z"
    },
    "papermill": {
     "duration": 0.057125,
     "end_time": "2021-10-08T08:41:41.098130",
     "exception": false,
     "start_time": "2021-10-08T08:41:41.041005",
     "status": "completed"
    },
    "tags": []
   },
   "outputs": [],
   "source": [
    "# import matplotlib.pyplot as plt\n",
    "# plt.plot(history.history['mae'])\n",
    "# plt.plot(history.history['val_mae'])\n",
    "# plt.legend(['train','test'],loc='lower right')\n",
    "# plt.show()\n",
    "\n",
    "# plt.plot(history.history['loss'])\n",
    "# plt.plot(history.history['val_loss']a)\n",
    "# plt.legend(['train','test'],loc='upper right')\n",
    "# plt.show()"
   ]
  },
  {
   "cell_type": "code",
   "execution_count": 35,
   "id": "fabb0f46",
   "metadata": {
    "execution": {
     "iopub.execute_input": "2021-10-08T08:41:41.204979Z",
     "iopub.status.busy": "2021-10-08T08:41:41.204353Z",
     "iopub.status.idle": "2021-10-08T08:41:41.207063Z",
     "shell.execute_reply": "2021-10-08T08:41:41.207573Z"
    },
    "papermill": {
     "duration": 0.057183,
     "end_time": "2021-10-08T08:41:41.207741",
     "exception": false,
     "start_time": "2021-10-08T08:41:41.150558",
     "status": "completed"
    },
    "tags": []
   },
   "outputs": [],
   "source": [
    "# ypred=modelNN.predict(xtest)\n",
    "# evaluate(ypred,ytest)"
   ]
  },
  {
   "cell_type": "code",
   "execution_count": 36,
   "id": "ed318e54",
   "metadata": {
    "execution": {
     "iopub.execute_input": "2021-10-08T08:41:41.316259Z",
     "iopub.status.busy": "2021-10-08T08:41:41.315621Z",
     "iopub.status.idle": "2021-10-08T08:41:41.318655Z",
     "shell.execute_reply": "2021-10-08T08:41:41.319136Z",
     "shell.execute_reply.started": "2021-10-02T17:19:09.297742Z"
    },
    "papermill": {
     "duration": 0.057036,
     "end_time": "2021-10-08T08:41:41.319331",
     "exception": false,
     "start_time": "2021-10-08T08:41:41.262295",
     "status": "completed"
    },
    "tags": []
   },
   "outputs": [],
   "source": [
    "# #Fast Text FB\n",
    "\n",
    "# def ft_data(x):\n",
    "#     data=[]\n",
    "#     for i in range(len(x)):\n",
    "#         cat=re.sub(\" \",\"_\",x[\"Sub-category\"][i])\n",
    "#         s=\"__label__\"+cat+\" \"+x[\"Article\"][i]\n",
    "#         data.append(s)\n",
    "#     return data\n",
    "\n",
    "# data=ft_data(train_data)\n",
    "# data=pd.DataFrame({\"text\":data})\n",
    "# data.to_csv(\"ft_data.csv\",index=False)\n",
    "# data.head()"
   ]
  },
  {
   "cell_type": "code",
   "execution_count": 37,
   "id": "654cb87d",
   "metadata": {
    "execution": {
     "iopub.execute_input": "2021-10-08T08:41:41.424168Z",
     "iopub.status.busy": "2021-10-08T08:41:41.423534Z",
     "iopub.status.idle": "2021-10-08T08:41:41.426423Z",
     "shell.execute_reply": "2021-10-08T08:41:41.426933Z",
     "shell.execute_reply.started": "2021-10-02T17:19:13.186178Z"
    },
    "papermill": {
     "duration": 0.056472,
     "end_time": "2021-10-08T08:41:41.427092",
     "exception": false,
     "start_time": "2021-10-08T08:41:41.370620",
     "status": "completed"
    },
    "tags": []
   },
   "outputs": [],
   "source": [
    "# model = fasttext.train_supervised(input=\"./ft_data.csv\")"
   ]
  },
  {
   "cell_type": "code",
   "execution_count": 38,
   "id": "0a83351e",
   "metadata": {
    "execution": {
     "iopub.execute_input": "2021-10-08T08:41:41.532490Z",
     "iopub.status.busy": "2021-10-08T08:41:41.531851Z",
     "iopub.status.idle": "2021-10-08T08:41:41.534651Z",
     "shell.execute_reply": "2021-10-08T08:41:41.535129Z",
     "shell.execute_reply.started": "2021-10-02T17:19:17.695446Z"
    },
    "papermill": {
     "duration": 0.056519,
     "end_time": "2021-10-08T08:41:41.535314",
     "exception": false,
     "start_time": "2021-10-08T08:41:41.478795",
     "status": "completed"
    },
    "tags": []
   },
   "outputs": [],
   "source": [
    "# model.test(\"./ft_data.csv\")"
   ]
  },
  {
   "cell_type": "code",
   "execution_count": 39,
   "id": "44f05fb9",
   "metadata": {
    "execution": {
     "iopub.execute_input": "2021-10-08T08:41:41.640571Z",
     "iopub.status.busy": "2021-10-08T08:41:41.639850Z",
     "iopub.status.idle": "2021-10-08T08:41:41.643175Z",
     "shell.execute_reply": "2021-10-08T08:41:41.643645Z",
     "shell.execute_reply.started": "2021-10-03T14:01:59.486006Z"
    },
    "papermill": {
     "duration": 0.057537,
     "end_time": "2021-10-08T08:41:41.643829",
     "exception": false,
     "start_time": "2021-10-08T08:41:41.586292",
     "status": "completed"
    },
    "tags": []
   },
   "outputs": [],
   "source": [
    "# # ##TFBERT\n",
    "\n",
    "# import tensorflow as tf\n",
    "# from transformers import TFAutoModelForSequenceClassification,AutoTokenizer\n",
    "\n",
    "# tokenizer = AutoTokenizer.from_pretrained('bert-base-uncased')\n",
    "# model = TFAutoModelForSequenceClassification.from_pretrained(\"bert-base-cased\", num_labels=13)\n",
    "\n",
    "# xtokens = tokenizer.batch_encode_plus(list(x),add_special_tokens=True,truncation=True,padding=\"max_length\",max_length=512,return_attention_mask=True,return_tensors='tf')\n",
    "\n"
   ]
  },
  {
   "cell_type": "code",
   "execution_count": 40,
   "id": "72e46550",
   "metadata": {
    "execution": {
     "iopub.execute_input": "2021-10-08T08:41:41.750784Z",
     "iopub.status.busy": "2021-10-08T08:41:41.749822Z",
     "iopub.status.idle": "2021-10-08T08:41:41.752790Z",
     "shell.execute_reply": "2021-10-08T08:41:41.753250Z",
     "shell.execute_reply.started": "2021-10-03T14:15:09.361224Z"
    },
    "papermill": {
     "duration": 0.058142,
     "end_time": "2021-10-08T08:41:41.753425",
     "exception": false,
     "start_time": "2021-10-08T08:41:41.695283",
     "status": "completed"
    },
    "tags": []
   },
   "outputs": [],
   "source": [
    "# print(y_ord.shape)"
   ]
  },
  {
   "cell_type": "code",
   "execution_count": 41,
   "id": "24bb444a",
   "metadata": {
    "execution": {
     "iopub.execute_input": "2021-10-08T08:41:41.858846Z",
     "iopub.status.busy": "2021-10-08T08:41:41.857905Z",
     "iopub.status.idle": "2021-10-08T08:41:41.860884Z",
     "shell.execute_reply": "2021-10-08T08:41:41.861416Z",
     "shell.execute_reply.started": "2021-10-03T14:17:22.24136Z"
    },
    "papermill": {
     "duration": 0.057065,
     "end_time": "2021-10-08T08:41:41.861605",
     "exception": false,
     "start_time": "2021-10-08T08:41:41.804540",
     "status": "completed"
    },
    "tags": []
   },
   "outputs": [],
   "source": [
    "# tfy=tf.keras.utils.to_categorical(y_ord, num_classes=13)\n",
    "\n",
    "# data = tf.data.Dataset.from_tensor_slices((\n",
    "#     dict(xtokens),\n",
    "#     tfy\n",
    "# ))"
   ]
  },
  {
   "cell_type": "code",
   "execution_count": 42,
   "id": "3952a6fb",
   "metadata": {
    "execution": {
     "iopub.execute_input": "2021-10-08T08:41:41.970798Z",
     "iopub.status.busy": "2021-10-08T08:41:41.969983Z",
     "iopub.status.idle": "2021-10-08T08:41:41.972817Z",
     "shell.execute_reply": "2021-10-08T08:41:41.973295Z",
     "shell.execute_reply.started": "2021-10-03T14:19:15.004961Z"
    },
    "papermill": {
     "duration": 0.059117,
     "end_time": "2021-10-08T08:41:41.973475",
     "exception": false,
     "start_time": "2021-10-08T08:41:41.914358",
     "status": "completed"
    },
    "tags": []
   },
   "outputs": [],
   "source": [
    "\n",
    "# model.compile(loss='sparse_categorical_crossentropy',metrics=['accuracy'],optimizer=\"adam\")\n",
    "\n",
    "# callback=tf.keras.callbacks.EarlyStopping(monitor='val_accuracy',min_delta=0.01,patience=10,restore_best_weights=True)\n",
    "# history=model.fit(data,batch_size=32,callbacks=[callback],epochs=50,shuffle=True)\n",
    "\n"
   ]
  },
  {
   "cell_type": "markdown",
   "id": "40754199",
   "metadata": {
    "papermill": {
     "duration": 0.051461,
     "end_time": "2021-10-08T08:41:42.078540",
     "exception": false,
     "start_time": "2021-10-08T08:41:42.027079",
     "status": "completed"
    },
    "tags": []
   },
   "source": [
    "# **Predictions**"
   ]
  },
  {
   "cell_type": "code",
   "execution_count": 43,
   "id": "d991d6a9",
   "metadata": {
    "execution": {
     "iopub.execute_input": "2021-10-08T08:41:42.184895Z",
     "iopub.status.busy": "2021-10-08T08:41:42.184152Z",
     "iopub.status.idle": "2021-10-08T08:41:42.187043Z",
     "shell.execute_reply": "2021-10-08T08:41:42.187507Z",
     "shell.execute_reply.started": "2021-10-03T16:35:55.912611Z"
    },
    "papermill": {
     "duration": 0.057928,
     "end_time": "2021-10-08T08:41:42.187689",
     "exception": false,
     "start_time": "2021-10-08T08:41:42.129761",
     "status": "completed"
    },
    "tags": []
   },
   "outputs": [],
   "source": [
    "\n",
    "# en_stops=set(stopwords.words('english'))\n",
    "\n",
    "# folder_test=\"../input/intermediate-nlp-mlbuzz/intermediate/dataset/test\"\n",
    "# test_data=pd.read_csv(\"../input/intermediate-nlp-mlbuzz/test_submission.csv\")\n",
    "# # test_data=pd.read_csv(\"../input/intermediate-nlp-mlbuzz/processed_test.csv\")\n",
    "# test_data.info()"
   ]
  },
  {
   "cell_type": "code",
   "execution_count": 44,
   "id": "6c39570a",
   "metadata": {
    "execution": {
     "iopub.execute_input": "2021-10-08T08:41:42.294932Z",
     "iopub.status.busy": "2021-10-08T08:41:42.294279Z",
     "iopub.status.idle": "2021-10-08T08:41:42.296580Z",
     "shell.execute_reply": "2021-10-08T08:41:42.297065Z",
     "shell.execute_reply.started": "2021-10-03T06:14:33.579666Z"
    },
    "papermill": {
     "duration": 0.058452,
     "end_time": "2021-10-08T08:41:42.297254",
     "exception": false,
     "start_time": "2021-10-08T08:41:42.238802",
     "status": "completed"
    },
    "tags": []
   },
   "outputs": [],
   "source": [
    "# test_data[\"Sub_category\"].iloc[6810]"
   ]
  },
  {
   "cell_type": "code",
   "execution_count": 45,
   "id": "651ffa20",
   "metadata": {
    "execution": {
     "iopub.execute_input": "2021-10-08T08:41:42.403345Z",
     "iopub.status.busy": "2021-10-08T08:41:42.402626Z",
     "iopub.status.idle": "2021-10-08T08:42:31.042149Z",
     "shell.execute_reply": "2021-10-08T08:42:31.041627Z",
     "shell.execute_reply.started": "2021-10-03T08:17:02.794895Z"
    },
    "papermill": {
     "duration": 48.693696,
     "end_time": "2021-10-08T08:42:31.042312",
     "exception": false,
     "start_time": "2021-10-08T08:41:42.348616",
     "status": "completed"
    },
    "tags": []
   },
   "outputs": [
    {
     "name": "stdout",
     "output_type": "stream",
     "text": [
      "maxlen: 6790\n"
     ]
    },
    {
     "data": {
      "text/html": [
       "<div>\n",
       "<style scoped>\n",
       "    .dataframe tbody tr th:only-of-type {\n",
       "        vertical-align: middle;\n",
       "    }\n",
       "\n",
       "    .dataframe tbody tr th {\n",
       "        vertical-align: top;\n",
       "    }\n",
       "\n",
       "    .dataframe thead th {\n",
       "        text-align: right;\n",
       "    }\n",
       "</style>\n",
       "<table border=\"1\" class=\"dataframe\">\n",
       "  <thead>\n",
       "    <tr style=\"text-align: right;\">\n",
       "      <th></th>\n",
       "      <th>File_name</th>\n",
       "      <th>Article</th>\n",
       "    </tr>\n",
       "  </thead>\n",
       "  <tbody>\n",
       "    <tr>\n",
       "      <th>0</th>\n",
       "      <td>13938.txt</td>\n",
       "      <td>health canada review medical device ass safety...</td>\n",
       "    </tr>\n",
       "    <tr>\n",
       "      <th>1</th>\n",
       "      <td>13846.txt</td>\n",
       "      <td>in much preindustrial world guild system prote...</td>\n",
       "    </tr>\n",
       "    <tr>\n",
       "      <th>2</th>\n",
       "      <td>29876.txt</td>\n",
       "      <td>voting stake scania lcv dealer increasingly us...</td>\n",
       "    </tr>\n",
       "    <tr>\n",
       "      <th>3</th>\n",
       "      <td>8521.txt</td>\n",
       "      <td>it cause knowledge truth also object knowledge...</td>\n",
       "    </tr>\n",
       "    <tr>\n",
       "      <th>4</th>\n",
       "      <td>7729.txt</td>\n",
       "      <td>in additional electricity production solar ene...</td>\n",
       "    </tr>\n",
       "  </tbody>\n",
       "</table>\n",
       "</div>"
      ],
      "text/plain": [
       "   File_name                                            Article\n",
       "0  13938.txt  health canada review medical device ass safety...\n",
       "1  13846.txt  in much preindustrial world guild system prote...\n",
       "2  29876.txt  voting stake scania lcv dealer increasingly us...\n",
       "3   8521.txt  it cause knowledge truth also object knowledge...\n",
       "4   7729.txt  in additional electricity production solar ene..."
      ]
     },
     "execution_count": 45,
     "metadata": {},
     "output_type": "execute_result"
    }
   ],
   "source": [
    "# # reading the articles\n",
    "\n",
    "\n",
    "\n",
    "en_stops=set(stopwords.words('english'))\n",
    "\n",
    "folder_test=\"../input/intermediate-nlp-mlbuzz/intermediate/dataset/test\"\n",
    "test_data=pd.read_csv(\"../input/intermediate-nlp-mlbuzz/intermediate/dataset/test.csv\")\n",
    "test_data[\"Article\"]=[\"\"]*len(test_data)\n",
    "\n",
    "mx=0\n",
    "\n",
    "for i in range(len(test_data)):\n",
    "    rel_path=test_data[\"File_name\"].iloc[i]\n",
    "    fpath=os.path.join(folder_test,rel_path)\n",
    "    with open(fpath,'r') as f:\n",
    "        art=f.read()\n",
    "        proc_art=''\n",
    "        \n",
    "         #preprocessing: Removing stop words and special characters\n",
    "        \n",
    "        art=re.sub('[^A-Za-z\\s]','',art)  #removing all non alphanumeric character with space\n",
    "        \n",
    "        for wd in art.split():\n",
    "            wd=wd.strip()\n",
    "            if wd not in en_stops:\n",
    "                wd=wd.lower()\n",
    "                wd=lemmaT.lemmatize(wd)\n",
    "                if len(wd)>1:\n",
    "                    proc_art+=wd+\" \"\n",
    "                \n",
    "\n",
    "        proc_art=proc_art.strip()\n",
    "        test_data[\"Article\"].iloc[i]=proc_art\n",
    "        \n",
    "        mx=max(mx,len(proc_art))\n",
    "\n",
    "\n",
    "print(\"maxlen:\",mx)\n",
    "\n",
    "test_data.head()"
   ]
  },
  {
   "cell_type": "code",
   "execution_count": 46,
   "id": "f4399557",
   "metadata": {
    "execution": {
     "iopub.execute_input": "2021-10-08T08:42:31.148454Z",
     "iopub.status.busy": "2021-10-08T08:42:31.147743Z",
     "iopub.status.idle": "2021-10-08T08:42:31.456498Z",
     "shell.execute_reply": "2021-10-08T08:42:31.456981Z",
     "shell.execute_reply.started": "2021-10-03T08:17:46.369242Z"
    },
    "papermill": {
     "duration": 0.363835,
     "end_time": "2021-10-08T08:42:31.457193",
     "exception": false,
     "start_time": "2021-10-08T08:42:31.093358",
     "status": "completed"
    },
    "tags": []
   },
   "outputs": [],
   "source": [
    "test_data.to_csv(\"processed_test.csv\",index=False)"
   ]
  },
  {
   "cell_type": "code",
   "execution_count": 47,
   "id": "9c83b369",
   "metadata": {
    "execution": {
     "iopub.execute_input": "2021-10-08T08:42:31.571135Z",
     "iopub.status.busy": "2021-10-08T08:42:31.565004Z",
     "iopub.status.idle": "2021-10-08T08:42:31.575004Z",
     "shell.execute_reply": "2021-10-08T08:42:31.574467Z",
     "shell.execute_reply.started": "2021-10-03T08:17:46.687891Z"
    },
    "papermill": {
     "duration": 0.065349,
     "end_time": "2021-10-08T08:42:31.575148",
     "exception": false,
     "start_time": "2021-10-08T08:42:31.509799",
     "status": "completed"
    },
    "tags": []
   },
   "outputs": [
    {
     "data": {
      "text/html": [
       "<div>\n",
       "<style scoped>\n",
       "    .dataframe tbody tr th:only-of-type {\n",
       "        vertical-align: middle;\n",
       "    }\n",
       "\n",
       "    .dataframe tbody tr th {\n",
       "        vertical-align: top;\n",
       "    }\n",
       "\n",
       "    .dataframe thead th {\n",
       "        text-align: right;\n",
       "    }\n",
       "</style>\n",
       "<table border=\"1\" class=\"dataframe\">\n",
       "  <thead>\n",
       "    <tr style=\"text-align: right;\">\n",
       "      <th></th>\n",
       "      <th>File_name</th>\n",
       "      <th>Article</th>\n",
       "    </tr>\n",
       "  </thead>\n",
       "  <tbody>\n",
       "    <tr>\n",
       "      <th>0</th>\n",
       "      <td>13938.txt</td>\n",
       "      <td>health canada review medical device ass safety...</td>\n",
       "    </tr>\n",
       "    <tr>\n",
       "      <th>1</th>\n",
       "      <td>13846.txt</td>\n",
       "      <td>in much preindustrial world guild system prote...</td>\n",
       "    </tr>\n",
       "    <tr>\n",
       "      <th>2</th>\n",
       "      <td>29876.txt</td>\n",
       "      <td>voting stake scania lcv dealer increasingly us...</td>\n",
       "    </tr>\n",
       "    <tr>\n",
       "      <th>3</th>\n",
       "      <td>8521.txt</td>\n",
       "      <td>it cause knowledge truth also object knowledge...</td>\n",
       "    </tr>\n",
       "    <tr>\n",
       "      <th>4</th>\n",
       "      <td>7729.txt</td>\n",
       "      <td>in additional electricity production solar ene...</td>\n",
       "    </tr>\n",
       "  </tbody>\n",
       "</table>\n",
       "</div>"
      ],
      "text/plain": [
       "   File_name                                            Article\n",
       "0  13938.txt  health canada review medical device ass safety...\n",
       "1  13846.txt  in much preindustrial world guild system prote...\n",
       "2  29876.txt  voting stake scania lcv dealer increasingly us...\n",
       "3   8521.txt  it cause knowledge truth also object knowledge...\n",
       "4   7729.txt  in additional electricity production solar ene..."
      ]
     },
     "execution_count": 47,
     "metadata": {},
     "output_type": "execute_result"
    }
   ],
   "source": [
    "test_data.head()"
   ]
  },
  {
   "cell_type": "code",
   "execution_count": 48,
   "id": "d7233e26",
   "metadata": {
    "execution": {
     "iopub.execute_input": "2021-10-08T08:42:31.684981Z",
     "iopub.status.busy": "2021-10-08T08:42:31.684324Z",
     "iopub.status.idle": "2021-10-08T08:42:31.687116Z",
     "shell.execute_reply": "2021-10-08T08:42:31.686583Z",
     "shell.execute_reply.started": "2021-09-29T06:47:07.997792Z"
    },
    "papermill": {
     "duration": 0.05955,
     "end_time": "2021-10-08T08:42:31.687284",
     "exception": false,
     "start_time": "2021-10-08T08:42:31.627734",
     "status": "completed"
    },
    "tags": []
   },
   "outputs": [],
   "source": [
    "# from transformers import pipeline\n",
    "# from datetime import datetime\n",
    "# classifier = pipeline(\"zero-shot-classification\",model=\"facebook/bart-large-mnli\")\n",
    "\n",
    "# # test_data[\"Sub_category\"]=['']*len(test_data)\n",
    "\n",
    "# candidate_labels = ['Green Energy', 'Non-green Energy', 'Diagnostic', 'Pharma', 'Production', 'Toys', 'Food', 'Mechanical', 'Heavy Vehicles', 'Light Vehicles', 'Hardware', 'Software', 'Security']\n",
    "# ypred=[]\n",
    "# for i in range(6811,7945):\n",
    "#     sequence_to_classify = test_data[\"Article\"].iloc[i]\n",
    "#     prediction=classifier(sequence_to_classify, candidate_labels)\n",
    "#     labels=prediction['labels']\n",
    "#     score=prediction['scores']\n",
    "#     pred=np.argmax(score)\n",
    "#     pred=labels[pred]\n",
    "#     ypred.append(pred)\n",
    "    \n",
    "#     test_data[\"Sub_category\"].iloc[i]=pred\n",
    "    \n",
    "#     if i%10==0:\n",
    "#         print(i,datetime.now())\n",
    "#         test_data.to_csv(\"test_submission.csv\",index=False)\n",
    "    \n",
    "\n",
    "# sub_cat=test_data[\"Sub_category\"] \n",
    "# industry=[cat_ind[i] for i in sub_cat]\n",
    "# test_data=pd.DataFrame({\"File_name\":test_data[\"File_name\"],\"Industry\":industry,\"Sub_category\":sub_cat})\n",
    "# test_data.head()"
   ]
  },
  {
   "cell_type": "code",
   "execution_count": 49,
   "id": "21cfcd91",
   "metadata": {
    "execution": {
     "iopub.execute_input": "2021-10-08T08:42:31.797028Z",
     "iopub.status.busy": "2021-10-08T08:42:31.796365Z",
     "iopub.status.idle": "2021-10-08T08:42:31.799427Z",
     "shell.execute_reply": "2021-10-08T08:42:31.798879Z",
     "shell.execute_reply.started": "2021-10-02T17:19:36.256714Z"
    },
    "papermill": {
     "duration": 0.05951,
     "end_time": "2021-10-08T08:42:31.799574",
     "exception": false,
     "start_time": "2021-10-08T08:42:31.740064",
     "status": "completed"
    },
    "tags": []
   },
   "outputs": [],
   "source": [
    "# #Fast text FB\n",
    "\n",
    "# test_data=pd.read_csv(\"../input/intermediate-nlp-mlbuzz/prepo_test.csv\")\n",
    "# test_ip=test_data[\"Article\"]\n",
    "# # test_ip.to_csv(\"test_input.csv\",index=False)\n",
    "# yhat=model.predict(list(test_ip))[0]\n",
    "# sub_cat=[re.sub(\"_\",' ',re.sub(\"__label__\",\"\",y[0])) for y in yhat]\n",
    "# # industry=[cat_ind[i] for i in sub_cat]\n",
    "# print(sub_cat[:5])\n"
   ]
  },
  {
   "cell_type": "code",
   "execution_count": 50,
   "id": "169eed16",
   "metadata": {
    "execution": {
     "iopub.execute_input": "2021-10-08T08:42:31.910177Z",
     "iopub.status.busy": "2021-10-08T08:42:31.908676Z",
     "iopub.status.idle": "2021-10-08T08:42:31.910865Z",
     "shell.execute_reply": "2021-10-08T08:42:31.911355Z",
     "shell.execute_reply.started": "2021-09-29T05:46:05.085396Z"
    },
    "papermill": {
     "duration": 0.059726,
     "end_time": "2021-10-08T08:42:31.911526",
     "exception": false,
     "start_time": "2021-10-08T08:42:31.851800",
     "status": "completed"
    },
    "tags": []
   },
   "outputs": [],
   "source": [
    "\n",
    "# sub_cat=ypred[:]\n",
    "# industry=[cat_ind[i] for i in sub_cat]\n",
    "# test_data.drop(columns=['Article'],inplace=True)\n",
    "# test_data[\"Industry\"]=industry\n",
    "# test_data[\"Sub-category\"]=sub_cat\n",
    "# test_data.head()"
   ]
  },
  {
   "cell_type": "code",
   "execution_count": 51,
   "id": "34040e3b",
   "metadata": {
    "execution": {
     "iopub.execute_input": "2021-10-08T08:42:32.021142Z",
     "iopub.status.busy": "2021-10-08T08:42:32.020493Z",
     "iopub.status.idle": "2021-10-08T08:42:32.024869Z",
     "shell.execute_reply": "2021-10-08T08:42:32.024353Z",
     "shell.execute_reply.started": "2021-10-03T15:58:30.526409Z"
    },
    "papermill": {
     "duration": 0.060132,
     "end_time": "2021-10-08T08:42:32.025012",
     "exception": false,
     "start_time": "2021-10-08T08:42:31.964880",
     "status": "completed"
    },
    "tags": []
   },
   "outputs": [],
   "source": [
    "# xtest=test_data[\"Article\"]\n",
    "# ycap=base_model.predict(xtest)\n",
    "# sub_cat=enc_ord.inverse_transform(ycap.reshape(-1,1))\n",
    "# sub_cat=[i[0] for i in sub_cat]\n",
    "# print(sub_cat)\n",
    "# industry=[cat_ind[i] for i in sub_cat]\n",
    "# test_data.drop(columns=['Article'],inplace=True)\n",
    "# test_data[\"Industry\"]=industry\n",
    "# test_data[\"Sub-category\"]=sub_cat\n",
    "# test_data.head()"
   ]
  },
  {
   "cell_type": "code",
   "execution_count": 52,
   "id": "5c142605",
   "metadata": {
    "execution": {
     "iopub.execute_input": "2021-10-08T08:42:32.134008Z",
     "iopub.status.busy": "2021-10-08T08:42:32.133352Z",
     "iopub.status.idle": "2021-10-08T08:42:32.136758Z",
     "shell.execute_reply": "2021-10-08T08:42:32.137300Z",
     "shell.execute_reply.started": "2021-09-29T12:46:15.452689Z"
    },
    "papermill": {
     "duration": 0.059816,
     "end_time": "2021-10-08T08:42:32.137476",
     "exception": false,
     "start_time": "2021-10-08T08:42:32.077660",
     "status": "completed"
    },
    "tags": []
   },
   "outputs": [],
   "source": [
    "# industry=[cat_ind[i] for i in sub_cat.reshape(-1)]\n",
    "# test_data.drop(columns=['Article'],inplace=True)\n",
    "# test_data[\"Industry\"]=industry\n",
    "# test_data[\"Sub-category\"]=sub_cat\n",
    "# test_data.head()"
   ]
  },
  {
   "cell_type": "code",
   "execution_count": 53,
   "id": "a0d4c2f9",
   "metadata": {
    "execution": {
     "iopub.execute_input": "2021-10-08T08:42:32.246496Z",
     "iopub.status.busy": "2021-10-08T08:42:32.245798Z",
     "iopub.status.idle": "2021-10-08T08:42:32.249079Z",
     "shell.execute_reply": "2021-10-08T08:42:32.248531Z",
     "shell.execute_reply.started": "2021-10-02T17:19:46.936467Z"
    },
    "papermill": {
     "duration": 0.059385,
     "end_time": "2021-10-08T08:42:32.249234",
     "exception": false,
     "start_time": "2021-10-08T08:42:32.189849",
     "status": "completed"
    },
    "tags": []
   },
   "outputs": [],
   "source": [
    "# test_data.to_csv(\"submission.csv\",index=False)"
   ]
  },
  {
   "cell_type": "code",
   "execution_count": 54,
   "id": "1b9ff5ea",
   "metadata": {
    "execution": {
     "iopub.execute_input": "2021-10-08T08:42:32.357643Z",
     "iopub.status.busy": "2021-10-08T08:42:32.356975Z",
     "iopub.status.idle": "2021-10-08T08:42:32.359659Z",
     "shell.execute_reply": "2021-10-08T08:42:32.360262Z",
     "shell.execute_reply.started": "2021-09-29T05:46:05.091326Z"
    },
    "papermill": {
     "duration": 0.05834,
     "end_time": "2021-10-08T08:42:32.360473",
     "exception": false,
     "start_time": "2021-10-08T08:42:32.302133",
     "status": "completed"
    },
    "tags": []
   },
   "outputs": [],
   "source": [
    "# bert_enc=[]\n",
    "# np_b_enc=np.empty((0,512,768))\n",
    "# for i in range(leinverse_transform)):\n",
    "#     enc=cls_enc[i]\n",
    "#     b_enc=bert_model(**enc)[0]\n",
    "# #     bert_enc.append(b_enc[0][0])\n",
    "    "
   ]
  },
  {
   "cell_type": "code",
   "execution_count": 55,
   "id": "b98b9cd4",
   "metadata": {
    "execution": {
     "iopub.execute_input": "2021-10-08T08:42:32.470523Z",
     "iopub.status.busy": "2021-10-08T08:42:32.469871Z",
     "iopub.status.idle": "2021-10-08T08:42:32.471429Z",
     "shell.execute_reply": "2021-10-08T08:42:32.472044Z",
     "shell.execute_reply.started": "2021-09-29T05:46:05.093079Z"
    },
    "papermill": {
     "duration": 0.059087,
     "end_time": "2021-10-08T08:42:32.472230",
     "exception": false,
     "start_time": "2021-10-08T08:42:32.413143",
     "status": "completed"
    },
    "tags": []
   },
   "outputs": [],
   "source": [
    "# from transformers import AutoModel\n",
    "\n",
    "# # initialize cased BERT model\n",
    "# bert = AutoModel.from_pretrained('bert-base-cased')\n",
    "\n",
    "# input_ids = tf.keras.layers.Input(shape=(50,), name='input_ids', dtype='int32')\n",
    "# mask = tf.keras.layers.Input(shape=(50,), name='attention_mask', dtype='int32')\n",
    "\n",
    "# # we consume the last_hidden_state tensor from bert (discarding pooled_outputs)\n",
    "# embeddings = bert(input_ids, attention_mask=mask)[0]\n",
    "\n",
    "# X = tf.keras.layers.LSTM(64)(embeddings)\n",
    "# X = tf.keras.layers.BatchNormalization()(X)\n",
    "# X = tf.keras.layers.Dense(64, activation='relu')(X)\n",
    "# X = tf.keras.layers.Dropout(0.1)(X)\n",
    "# y = tf.keras.layers.Dense(13, activation='softmax', name='outputs')(X)\n",
    "\n",
    "# # define input and output layers of our model\n",
    "# model = tf.keras.Model(inputs=[input_ids, mask], outputs=y)\n",
    "\n",
    "# # freeze the BERT layer - otherwise we will be training 100M+ parameters...\n",
    "# model.layers[2].trainable = False"
   ]
  },
  {
   "cell_type": "code",
   "execution_count": 56,
   "id": "cf66e4ed",
   "metadata": {
    "execution": {
     "iopub.execute_input": "2021-10-08T08:42:32.580515Z",
     "iopub.status.busy": "2021-10-08T08:42:32.579892Z",
     "iopub.status.idle": "2021-10-08T08:42:32.582765Z",
     "shell.execute_reply": "2021-10-08T08:42:32.583293Z",
     "shell.execute_reply.started": "2021-09-29T05:46:05.094913Z"
    },
    "papermill": {
     "duration": 0.058218,
     "end_time": "2021-10-08T08:42:32.583463",
     "exception": false,
     "start_time": "2021-10-08T08:42:32.525245",
     "status": "completed"
    },
    "tags": []
   },
   "outputs": [],
   "source": [
    "# optimizer = tf.keras.optimizers.Adam(0.01)\n",
    "# loss = tf.keras.losses.CategoricalCrossentropy()  # categorical = one-hot\n",
    "# acc = tf.keras.metrics.CategoricalAccuracy('accuracy')\n",
    "\n",
    "# model.compile(optimizer=optimizer, loss=loss, metrics=[acc])\n",
    "\n",
    "# history = model.fit(train, validation_data=val, epochs=40)"
   ]
  },
  {
   "cell_type": "code",
   "execution_count": 57,
   "id": "9f14d0f1",
   "metadata": {
    "execution": {
     "iopub.execute_input": "2021-10-08T08:42:32.691581Z",
     "iopub.status.busy": "2021-10-08T08:42:32.690883Z",
     "iopub.status.idle": "2021-10-08T08:42:32.694009Z",
     "shell.execute_reply": "2021-10-08T08:42:32.694590Z",
     "shell.execute_reply.started": "2021-09-29T05:46:05.097691Z"
    },
    "papermill": {
     "duration": 0.058888,
     "end_time": "2021-10-08T08:42:32.694769",
     "exception": false,
     "start_time": "2021-10-08T08:42:32.635881",
     "status": "completed"
    },
    "tags": []
   },
   "outputs": [],
   "source": [
    "# import numpy as np\n",
    "# cls_enc=np.array(cls_enc)\n",
    "# reshaped_cls_enc=cls_enc.reshape(cls_enc.shape[0],-1)\n",
    "# np.savetext(\"bert_encoding.txt\",reshaped_cls_enc)\n",
    "# print(cls_enc.shape)\n",
    "# print(\"probable shape:\",31779,512,768)\n"
   ]
  },
  {
   "cell_type": "code",
   "execution_count": 58,
   "id": "1c62acc9",
   "metadata": {
    "execution": {
     "iopub.execute_input": "2021-10-08T08:42:32.805206Z",
     "iopub.status.busy": "2021-10-08T08:42:32.804577Z",
     "iopub.status.idle": "2021-10-08T08:42:32.807331Z",
     "shell.execute_reply": "2021-10-08T08:42:32.807817Z",
     "shell.execute_reply.started": "2021-09-29T05:46:05.10058Z"
    },
    "papermill": {
     "duration": 0.060342,
     "end_time": "2021-10-08T08:42:32.808005",
     "exception": false,
     "start_time": "2021-10-08T08:42:32.747663",
     "status": "completed"
    },
    "tags": []
   },
   "outputs": [],
   "source": [
    "#intermediate save\n",
    "# train_data[\"Bert Encodings\"]=cls_enc\n",
    "# train_data.to_csv(\"bert_enc_proc_data.csv\",index=False)"
   ]
  },
  {
   "cell_type": "code",
   "execution_count": 59,
   "id": "dc7a8aa6",
   "metadata": {
    "execution": {
     "iopub.execute_input": "2021-10-08T08:42:32.972922Z",
     "iopub.status.busy": "2021-10-08T08:42:32.972313Z",
     "iopub.status.idle": "2021-10-08T08:42:32.975197Z",
     "shell.execute_reply": "2021-10-08T08:42:32.975727Z",
     "shell.execute_reply.started": "2021-09-29T05:46:05.103062Z"
    },
    "papermill": {
     "duration": 0.114532,
     "end_time": "2021-10-08T08:42:32.975895",
     "exception": false,
     "start_time": "2021-10-08T08:42:32.861363",
     "status": "completed"
    },
    "tags": []
   },
   "outputs": [],
   "source": [
    "# x_gen=[enc[0] for enc in cls_enc]"
   ]
  },
  {
   "cell_type": "code",
   "execution_count": 60,
   "id": "c9a7363e",
   "metadata": {
    "execution": {
     "iopub.execute_input": "2021-10-08T08:42:33.083130Z",
     "iopub.status.busy": "2021-10-08T08:42:33.082529Z",
     "iopub.status.idle": "2021-10-08T08:42:33.085343Z",
     "shell.execute_reply": "2021-10-08T08:42:33.085832Z",
     "shell.execute_reply.started": "2021-09-29T05:46:05.105773Z"
    },
    "papermill": {
     "duration": 0.057923,
     "end_time": "2021-10-08T08:42:33.086000",
     "exception": false,
     "start_time": "2021-10-08T08:42:33.028077",
     "status": "completed"
    },
    "tags": []
   },
   "outputs": [],
   "source": [
    "# from sklearn.model_selection import train_test_split\n",
    "# xtrain,xtest,ytrain,ytest=train_test_split(x_gen,y1hot,test_size=0.4,random_state=7)\n",
    "# print(len(xtrain),len(xtest),len(ytrain),len(ytest))"
   ]
  },
  {
   "cell_type": "code",
   "execution_count": 61,
   "id": "8f34cdce",
   "metadata": {
    "execution": {
     "iopub.execute_input": "2021-10-08T08:42:33.193998Z",
     "iopub.status.busy": "2021-10-08T08:42:33.193356Z",
     "iopub.status.idle": "2021-10-08T08:42:33.196356Z",
     "shell.execute_reply": "2021-10-08T08:42:33.196834Z",
     "shell.execute_reply.started": "2021-09-29T05:46:05.107195Z"
    },
    "papermill": {
     "duration": 0.05888,
     "end_time": "2021-10-08T08:42:33.197001",
     "exception": false,
     "start_time": "2021-10-08T08:42:33.138121",
     "status": "completed"
    },
    "tags": []
   },
   "outputs": [],
   "source": [
    "# from sklearn.metrics import accuracy_score\n",
    "# from xgboost.sklearn import XGBRegressor\n",
    "# xgb=XGBRegressor()\n",
    "# xgb.fit(xtrain,ytrain)\n",
    "# ypred=xgb.predict(xtest)\n",
    "# print(accuracy_score(ytest,ypred))\n"
   ]
  }
 ],
 "metadata": {
  "kernelspec": {
   "display_name": "Python 3",
   "language": "python",
   "name": "python3"
  },
  "language_info": {
   "codemirror_mode": {
    "name": "ipython",
    "version": 3
   },
   "file_extension": ".py",
   "mimetype": "text/x-python",
   "name": "python",
   "nbconvert_exporter": "python",
   "pygments_lexer": "ipython3",
   "version": "3.7.10"
  },
  "papermill": {
   "default_parameters": {},
   "duration": 251.969449,
   "end_time": "2021-10-08T08:42:36.494700",
   "environment_variables": {},
   "exception": null,
   "input_path": "__notebook__.ipynb",
   "output_path": "__notebook__.ipynb",
   "parameters": {},
   "start_time": "2021-10-08T08:38:24.525251",
   "version": "2.3.3"
  }
 },
 "nbformat": 4,
 "nbformat_minor": 5
}
