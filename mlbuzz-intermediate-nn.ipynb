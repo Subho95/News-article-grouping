{
 "cells": [
  {
   "cell_type": "code",
   "execution_count": 1,
   "id": "6eeaf872",
   "metadata": {
    "_cell_guid": "b1076dfc-b9ad-4769-8c92-a6c4dae69d19",
    "_uuid": "8f2839f25d086af736a60e9eeb907d3b93b6e0e5",
    "execution": {
     "iopub.execute_input": "2021-10-22T04:00:30.805219Z",
     "iopub.status.busy": "2021-10-22T04:00:30.804536Z",
     "iopub.status.idle": "2021-10-22T04:00:30.807679Z",
     "shell.execute_reply": "2021-10-22T04:00:30.806669Z",
     "shell.execute_reply.started": "2021-10-20T09:01:04.739448Z"
    },
    "papermill": {
     "duration": 0.027262,
     "end_time": "2021-10-22T04:00:30.807849",
     "exception": false,
     "start_time": "2021-10-22T04:00:30.780587",
     "status": "completed"
    },
    "tags": []
   },
   "outputs": [],
   "source": [
    "# # This Python 3 environment comes with many helpful analytics libraries installed\n",
    "# # It is defined by the kaggle/python Docker image: https://github.com/kaggle/docker-python\n",
    "# # For example, here's several helpful packages to load\n",
    "\n",
    "# import numpy as np # linear algebra\n",
    "# import pandas as pd # data processing, CSV file I/O (e.g. pd.read_csv)\n",
    "\n",
    "# # Input data files are available in the read-only \"../input/\" directory\n",
    "# # For example, running this (by clicking run or pressing Shift+Enter) will list all files under the input directory\n",
    "\n",
    "# import os\n",
    "# for dirname, _, filenames in os.walk('/kaggle/input'):\n",
    "#     for filename in filenames:\n",
    "#         print(os.path.join(dirname, filename))\n",
    "\n",
    "# # You can write up to 20GB to the current directory (/kaggle/working/) that gets preserved as output when you create a version using \"Save & Run All\" \n",
    "# # You can also write temporary files to /kaggle/temp/, but they won't be saved outside of the current session"
   ]
  },
  {
   "cell_type": "code",
   "execution_count": 2,
   "id": "905d5ca0",
   "metadata": {
    "execution": {
     "iopub.execute_input": "2021-10-22T04:00:30.922931Z",
     "iopub.status.busy": "2021-10-22T04:00:30.922191Z",
     "iopub.status.idle": "2021-10-22T04:01:36.159650Z",
     "shell.execute_reply": "2021-10-22T04:01:36.159132Z",
     "shell.execute_reply.started": "2021-10-21T04:35:22.859864Z"
    },
    "papermill": {
     "duration": 65.333446,
     "end_time": "2021-10-22T04:01:36.159834",
     "exception": false,
     "start_time": "2021-10-22T04:00:30.826388",
     "status": "completed"
    },
    "tags": []
   },
   "outputs": [
    {
     "name": "stdout",
     "output_type": "stream",
     "text": [
      "Collecting tensorflow_text\r\n",
      "  Downloading tensorflow_text-2.6.0-cp37-cp37m-manylinux1_x86_64.whl (4.4 MB)\r\n",
      "\u001b[K     |████████████████████████████████| 4.4 MB 925 kB/s \r\n",
      "\u001b[?25hCollecting tensorflow<2.7,>=2.6.0\r\n",
      "  Downloading tensorflow-2.6.0-cp37-cp37m-manylinux2010_x86_64.whl (458.3 MB)\r\n",
      "\u001b[K     |████████████████████████████████| 458.3 MB 9.5 kB/s \r\n",
      "\u001b[?25hRequirement already satisfied: tensorflow-hub>=0.8.0 in /opt/conda/lib/python3.7/site-packages (from tensorflow_text) (0.12.0)\r\n",
      "Requirement already satisfied: opt-einsum~=3.3.0 in /opt/conda/lib/python3.7/site-packages (from tensorflow<2.7,>=2.6.0->tensorflow_text) (3.3.0)\r\n",
      "Requirement already satisfied: flatbuffers~=1.12.0 in /opt/conda/lib/python3.7/site-packages (from tensorflow<2.7,>=2.6.0->tensorflow_text) (1.12)\r\n",
      "Collecting grpcio<2.0,>=1.37.0\r\n",
      "  Downloading grpcio-1.41.0-cp37-cp37m-manylinux_2_17_x86_64.manylinux2014_x86_64.whl (3.9 MB)\r\n",
      "\u001b[K     |████████████████████████████████| 3.9 MB 30.5 MB/s \r\n",
      "\u001b[?25hRequirement already satisfied: termcolor~=1.1.0 in /opt/conda/lib/python3.7/site-packages (from tensorflow<2.7,>=2.6.0->tensorflow_text) (1.1.0)\r\n",
      "Requirement already satisfied: typing-extensions~=3.7.4 in /opt/conda/lib/python3.7/site-packages (from tensorflow<2.7,>=2.6.0->tensorflow_text) (3.7.4.3)\r\n",
      "Requirement already satisfied: keras-preprocessing~=1.1.2 in /opt/conda/lib/python3.7/site-packages (from tensorflow<2.7,>=2.6.0->tensorflow_text) (1.1.2)\r\n",
      "Requirement already satisfied: astunparse~=1.6.3 in /opt/conda/lib/python3.7/site-packages (from tensorflow<2.7,>=2.6.0->tensorflow_text) (1.6.3)\r\n",
      "Requirement already satisfied: protobuf>=3.9.2 in /opt/conda/lib/python3.7/site-packages (from tensorflow<2.7,>=2.6.0->tensorflow_text) (3.18.0)\r\n",
      "Collecting keras~=2.6\r\n",
      "  Downloading keras-2.6.0-py2.py3-none-any.whl (1.3 MB)\r\n",
      "\u001b[K     |████████████████████████████████| 1.3 MB 33.6 MB/s \r\n",
      "\u001b[?25hRequirement already satisfied: wrapt~=1.12.1 in /opt/conda/lib/python3.7/site-packages (from tensorflow<2.7,>=2.6.0->tensorflow_text) (1.12.1)\r\n",
      "Collecting h5py~=3.1.0\r\n",
      "  Downloading h5py-3.1.0-cp37-cp37m-manylinux1_x86_64.whl (4.0 MB)\r\n",
      "\u001b[K     |████████████████████████████████| 4.0 MB 38.5 MB/s \r\n",
      "\u001b[?25hRequirement already satisfied: six~=1.15.0 in /opt/conda/lib/python3.7/site-packages (from tensorflow<2.7,>=2.6.0->tensorflow_text) (1.15.0)\r\n",
      "Requirement already satisfied: tensorboard~=2.6 in /opt/conda/lib/python3.7/site-packages (from tensorflow<2.7,>=2.6.0->tensorflow_text) (2.6.0)\r\n",
      "Requirement already satisfied: numpy~=1.19.2 in /opt/conda/lib/python3.7/site-packages (from tensorflow<2.7,>=2.6.0->tensorflow_text) (1.19.5)\r\n",
      "Requirement already satisfied: absl-py~=0.10 in /opt/conda/lib/python3.7/site-packages (from tensorflow<2.7,>=2.6.0->tensorflow_text) (0.12.0)\r\n",
      "Collecting tensorflow-estimator~=2.6\r\n",
      "  Downloading tensorflow_estimator-2.6.0-py2.py3-none-any.whl (462 kB)\r\n",
      "\u001b[K     |████████████████████████████████| 462 kB 51.7 MB/s \r\n",
      "\u001b[?25hRequirement already satisfied: wheel~=0.35 in /opt/conda/lib/python3.7/site-packages (from tensorflow<2.7,>=2.6.0->tensorflow_text) (0.37.0)\r\n",
      "Requirement already satisfied: google-pasta~=0.2 in /opt/conda/lib/python3.7/site-packages (from tensorflow<2.7,>=2.6.0->tensorflow_text) (0.2.0)\r\n",
      "Collecting gast==0.4.0\r\n",
      "  Downloading gast-0.4.0-py3-none-any.whl (9.8 kB)\r\n",
      "Collecting clang~=5.0\r\n",
      "  Downloading clang-5.0.tar.gz (30 kB)\r\n",
      "Collecting cached-property\r\n",
      "  Downloading cached_property-1.5.2-py2.py3-none-any.whl (7.6 kB)\r\n",
      "Requirement already satisfied: werkzeug>=0.11.15 in /opt/conda/lib/python3.7/site-packages (from tensorboard~=2.6->tensorflow<2.7,>=2.6.0->tensorflow_text) (2.0.1)\r\n",
      "Requirement already satisfied: tensorboard-plugin-wit>=1.6.0 in /opt/conda/lib/python3.7/site-packages (from tensorboard~=2.6->tensorflow<2.7,>=2.6.0->tensorflow_text) (1.8.0)\r\n",
      "Requirement already satisfied: markdown>=2.6.8 in /opt/conda/lib/python3.7/site-packages (from tensorboard~=2.6->tensorflow<2.7,>=2.6.0->tensorflow_text) (3.3.4)\r\n",
      "Requirement already satisfied: google-auth-oauthlib<0.5,>=0.4.1 in /opt/conda/lib/python3.7/site-packages (from tensorboard~=2.6->tensorflow<2.7,>=2.6.0->tensorflow_text) (0.4.5)\r\n",
      "Requirement already satisfied: requests<3,>=2.21.0 in /opt/conda/lib/python3.7/site-packages (from tensorboard~=2.6->tensorflow<2.7,>=2.6.0->tensorflow_text) (2.25.1)\r\n",
      "Requirement already satisfied: tensorboard-data-server<0.7.0,>=0.6.0 in /opt/conda/lib/python3.7/site-packages (from tensorboard~=2.6->tensorflow<2.7,>=2.6.0->tensorflow_text) (0.6.1)\r\n",
      "Requirement already satisfied: google-auth<2,>=1.6.3 in /opt/conda/lib/python3.7/site-packages (from tensorboard~=2.6->tensorflow<2.7,>=2.6.0->tensorflow_text) (1.34.0)\r\n",
      "Requirement already satisfied: setuptools>=41.0.0 in /opt/conda/lib/python3.7/site-packages (from tensorboard~=2.6->tensorflow<2.7,>=2.6.0->tensorflow_text) (57.4.0)\r\n",
      "Requirement already satisfied: rsa<5,>=3.1.4 in /opt/conda/lib/python3.7/site-packages (from google-auth<2,>=1.6.3->tensorboard~=2.6->tensorflow<2.7,>=2.6.0->tensorflow_text) (4.7.2)\r\n",
      "Requirement already satisfied: cachetools<5.0,>=2.0.0 in /opt/conda/lib/python3.7/site-packages (from google-auth<2,>=1.6.3->tensorboard~=2.6->tensorflow<2.7,>=2.6.0->tensorflow_text) (4.2.2)\r\n",
      "Requirement already satisfied: pyasn1-modules>=0.2.1 in /opt/conda/lib/python3.7/site-packages (from google-auth<2,>=1.6.3->tensorboard~=2.6->tensorflow<2.7,>=2.6.0->tensorflow_text) (0.2.7)\r\n",
      "Requirement already satisfied: requests-oauthlib>=0.7.0 in /opt/conda/lib/python3.7/site-packages (from google-auth-oauthlib<0.5,>=0.4.1->tensorboard~=2.6->tensorflow<2.7,>=2.6.0->tensorflow_text) (1.3.0)\r\n",
      "Requirement already satisfied: importlib-metadata in /opt/conda/lib/python3.7/site-packages (from markdown>=2.6.8->tensorboard~=2.6->tensorflow<2.7,>=2.6.0->tensorflow_text) (3.4.0)\r\n",
      "Requirement already satisfied: pyasn1<0.5.0,>=0.4.6 in /opt/conda/lib/python3.7/site-packages (from pyasn1-modules>=0.2.1->google-auth<2,>=1.6.3->tensorboard~=2.6->tensorflow<2.7,>=2.6.0->tensorflow_text) (0.4.8)\r\n",
      "Requirement already satisfied: idna<3,>=2.5 in /opt/conda/lib/python3.7/site-packages (from requests<3,>=2.21.0->tensorboard~=2.6->tensorflow<2.7,>=2.6.0->tensorflow_text) (2.10)\r\n",
      "Requirement already satisfied: chardet<5,>=3.0.2 in /opt/conda/lib/python3.7/site-packages (from requests<3,>=2.21.0->tensorboard~=2.6->tensorflow<2.7,>=2.6.0->tensorflow_text) (4.0.0)\r\n",
      "Requirement already satisfied: certifi>=2017.4.17 in /opt/conda/lib/python3.7/site-packages (from requests<3,>=2.21.0->tensorboard~=2.6->tensorflow<2.7,>=2.6.0->tensorflow_text) (2021.5.30)\r\n",
      "Requirement already satisfied: urllib3<1.27,>=1.21.1 in /opt/conda/lib/python3.7/site-packages (from requests<3,>=2.21.0->tensorboard~=2.6->tensorflow<2.7,>=2.6.0->tensorflow_text) (1.26.6)\r\n",
      "Requirement already satisfied: oauthlib>=3.0.0 in /opt/conda/lib/python3.7/site-packages (from requests-oauthlib>=0.7.0->google-auth-oauthlib<0.5,>=0.4.1->tensorboard~=2.6->tensorflow<2.7,>=2.6.0->tensorflow_text) (3.1.1)\r\n",
      "Requirement already satisfied: zipp>=0.5 in /opt/conda/lib/python3.7/site-packages (from importlib-metadata->markdown>=2.6.8->tensorboard~=2.6->tensorflow<2.7,>=2.6.0->tensorflow_text) (3.5.0)\r\n",
      "Building wheels for collected packages: clang\r\n",
      "  Building wheel for clang (setup.py) ... \u001b[?25l-\b \b\\\b \bdone\r\n",
      "\u001b[?25h  Created wheel for clang: filename=clang-5.0-py3-none-any.whl size=30692 sha256=35f40062aa27ff996a70a7f7757eb19c7f1fe271b7dd17ab6385e100a2b4d05e\r\n",
      "  Stored in directory: /root/.cache/pip/wheels/98/91/04/971b4c587cf47ae952b108949b46926f426c02832d120a082a\r\n",
      "Successfully built clang\r\n",
      "Installing collected packages: grpcio, cached-property, tensorflow-estimator, keras, h5py, gast, clang, tensorflow, tensorflow-text\r\n",
      "  Attempting uninstall: grpcio\r\n",
      "    Found existing installation: grpcio 1.32.0\r\n",
      "    Uninstalling grpcio-1.32.0:\r\n",
      "      Successfully uninstalled grpcio-1.32.0\r\n",
      "  Attempting uninstall: tensorflow-estimator\r\n",
      "    Found existing installation: tensorflow-estimator 2.4.0\r\n",
      "    Uninstalling tensorflow-estimator-2.4.0:\r\n",
      "      Successfully uninstalled tensorflow-estimator-2.4.0\r\n",
      "  Attempting uninstall: h5py\r\n",
      "    Found existing installation: h5py 2.10.0\r\n",
      "    Uninstalling h5py-2.10.0:\r\n",
      "      Successfully uninstalled h5py-2.10.0\r\n",
      "  Attempting uninstall: gast\r\n",
      "    Found existing installation: gast 0.3.3\r\n",
      "    Uninstalling gast-0.3.3:\r\n",
      "      Successfully uninstalled gast-0.3.3\r\n",
      "  Attempting uninstall: tensorflow\r\n",
      "    Found existing installation: tensorflow 2.4.1\r\n",
      "    Uninstalling tensorflow-2.4.1:\r\n",
      "      Successfully uninstalled tensorflow-2.4.1\r\n",
      "Successfully installed cached-property-1.5.2 clang-5.0 gast-0.4.0 grpcio-1.41.0 h5py-3.1.0 keras-2.6.0 tensorflow-2.6.0 tensorflow-estimator-2.6.0 tensorflow-text-2.6.0\r\n",
      "\u001b[33mWARNING: Running pip as the 'root' user can result in broken permissions and conflicting behaviour with the system package manager. It is recommended to use a virtual environment instead: https://pip.pypa.io/warnings/venv\u001b[0m\r\n"
     ]
    }
   ],
   "source": [
    "!pip install tensorflow_text"
   ]
  },
  {
   "cell_type": "code",
   "execution_count": 3,
   "id": "3e25a42e",
   "metadata": {
    "execution": {
     "iopub.execute_input": "2021-10-22T04:01:36.537681Z",
     "iopub.status.busy": "2021-10-22T04:01:36.536835Z",
     "iopub.status.idle": "2021-10-22T04:01:45.300964Z",
     "shell.execute_reply": "2021-10-22T04:01:45.300066Z",
     "shell.execute_reply.started": "2021-10-21T04:36:47.145803Z"
    },
    "papermill": {
     "duration": 8.960191,
     "end_time": "2021-10-22T04:01:45.301115",
     "exception": false,
     "start_time": "2021-10-22T04:01:36.340924",
     "status": "completed"
    },
    "tags": []
   },
   "outputs": [],
   "source": [
    "#Importing dependencies\n",
    "\n",
    "import pandas as pd\n",
    "import numpy as np\n",
    "import os\n",
    "import re\n",
    "from datetime import datetime\n",
    "\n",
    "from sklearn.preprocessing import OneHotEncoder,OrdinalEncoder\n",
    "from sklearn.model_selection import train_test_split\n",
    "from sklearn.metrics import accuracy_score as acc\n",
    "from sklearn.pipeline import make_pipeline as pipe\n",
    "from sklearn.feature_extraction.text import CountVectorizer,TfidfTransformer\n",
    "import nltk\n",
    "from nltk.corpus import stopwords\n",
    "from nltk.stem import WordNetLemmatizer as LemmaT\n",
    "\n",
    "from xgboost.sklearn import XGBClassifier as XGB\n",
    "from sklearn.ensemble import RandomForestClassifier as RF, AdaBoostClassifier as ADA, VotingClassifier as Vote, StackingClassifier as Stack\n",
    "from sklearn.svm import SVC\n",
    "from sklearn.naive_bayes import GaussianNB,MultinomialNB\n",
    "from sklearn.neighbors import KNeighborsClassifier\n",
    "from sklearn.decomposition import PCA\n",
    "from transformers import pipeline\n",
    "\n",
    "import tensorflow as tf\n",
    "from tensorflow.keras import Sequential,layers\n",
    "%matplotlib inline\n",
    "import fasttext\n",
    "import matplotlib.pyplot as plt\n",
    "\n",
    "import tensorflow_hub as hub\n",
    "import tensorflow_text as text\n",
    "from transformers import DistilBertTokenizer, TFDistilBertModel, TFDistilBertForSequenceClassification, BertTokenizer"
   ]
  },
  {
   "cell_type": "code",
   "execution_count": 4,
   "id": "5d945943",
   "metadata": {
    "execution": {
     "iopub.execute_input": "2021-10-22T04:01:45.670263Z",
     "iopub.status.busy": "2021-10-22T04:01:45.669273Z",
     "iopub.status.idle": "2021-10-22T04:01:45.670885Z",
     "shell.execute_reply": "2021-10-22T04:01:45.671290Z",
     "shell.execute_reply.started": "2021-10-20T11:34:46.087306Z"
    },
    "papermill": {
     "duration": 0.190623,
     "end_time": "2021-10-22T04:01:45.671433",
     "exception": false,
     "start_time": "2021-10-22T04:01:45.480810",
     "status": "completed"
    },
    "tags": []
   },
   "outputs": [],
   "source": [
    "max_features=2000\n",
    "max_len=512"
   ]
  },
  {
   "cell_type": "code",
   "execution_count": 5,
   "id": "514d3c0d",
   "metadata": {
    "execution": {
     "iopub.execute_input": "2021-10-22T04:01:46.034462Z",
     "iopub.status.busy": "2021-10-22T04:01:46.033935Z",
     "iopub.status.idle": "2021-10-22T04:01:46.702355Z",
     "shell.execute_reply": "2021-10-22T04:01:46.703043Z",
     "shell.execute_reply.started": "2021-10-21T04:36:54.095052Z"
    },
    "papermill": {
     "duration": 0.853514,
     "end_time": "2021-10-22T04:01:46.703238",
     "exception": false,
     "start_time": "2021-10-22T04:01:45.849724",
     "status": "completed"
    },
    "tags": []
   },
   "outputs": [
    {
     "data": {
      "text/html": [
       "<div>\n",
       "<style scoped>\n",
       "    .dataframe tbody tr th:only-of-type {\n",
       "        vertical-align: middle;\n",
       "    }\n",
       "\n",
       "    .dataframe tbody tr th {\n",
       "        vertical-align: top;\n",
       "    }\n",
       "\n",
       "    .dataframe thead th {\n",
       "        text-align: right;\n",
       "    }\n",
       "</style>\n",
       "<table border=\"1\" class=\"dataframe\">\n",
       "  <thead>\n",
       "    <tr style=\"text-align: right;\">\n",
       "      <th></th>\n",
       "      <th>File_name</th>\n",
       "      <th>Industry</th>\n",
       "      <th>Sub-category</th>\n",
       "      <th>Article</th>\n",
       "    </tr>\n",
       "  </thead>\n",
       "  <tbody>\n",
       "    <tr>\n",
       "      <th>0</th>\n",
       "      <td>32577.txt</td>\n",
       "      <td>Power Industry</td>\n",
       "      <td>Green Energy</td>\n",
       "      <td>natural gas produce around half emission coal ...</td>\n",
       "    </tr>\n",
       "    <tr>\n",
       "      <th>1</th>\n",
       "      <td>12871.txt</td>\n",
       "      <td>Health Industry</td>\n",
       "      <td>Diagnostic</td>\n",
       "      <td>sanctuary santa maria della steccata in bc cit...</td>\n",
       "    </tr>\n",
       "    <tr>\n",
       "      <th>2</th>\n",
       "      <td>10812.txt</td>\n",
       "      <td>Health Industry</td>\n",
       "      <td>Pharma</td>\n",
       "      <td>in pure bismarck system access insurance seen ...</td>\n",
       "    </tr>\n",
       "    <tr>\n",
       "      <th>3</th>\n",
       "      <td>21494.txt</td>\n",
       "      <td>Manufacturing Industry</td>\n",
       "      <td>Production</td>\n",
       "      <td>voting right volkswagen integrating scania man...</td>\n",
       "    </tr>\n",
       "    <tr>\n",
       "      <th>4</th>\n",
       "      <td>3744.txt</td>\n",
       "      <td>Automobile Industry</td>\n",
       "      <td>Heavy Vehicles</td>\n",
       "      <td>lb required upper stage payload perform final ...</td>\n",
       "    </tr>\n",
       "  </tbody>\n",
       "</table>\n",
       "</div>"
      ],
      "text/plain": [
       "   File_name                Industry    Sub-category  \\\n",
       "0  32577.txt          Power Industry    Green Energy   \n",
       "1  12871.txt         Health Industry      Diagnostic   \n",
       "2  10812.txt         Health Industry          Pharma   \n",
       "3  21494.txt  Manufacturing Industry      Production   \n",
       "4   3744.txt     Automobile Industry  Heavy Vehicles   \n",
       "\n",
       "                                             Article  \n",
       "0  natural gas produce around half emission coal ...  \n",
       "1  sanctuary santa maria della steccata in bc cit...  \n",
       "2  in pure bismarck system access insurance seen ...  \n",
       "3  voting right volkswagen integrating scania man...  \n",
       "4  lb required upper stage payload perform final ...  "
      ]
     },
     "execution_count": 5,
     "metadata": {},
     "output_type": "execute_result"
    }
   ],
   "source": [
    "#read training data\n",
    "\n",
    "train_data=pd.read_csv(\"../input/intermediate-nlp-mlbuzz/processed_data.csv\")\n",
    "\n",
    "train_data.head()"
   ]
  },
  {
   "cell_type": "code",
   "execution_count": 6,
   "id": "fcdc9857",
   "metadata": {
    "execution": {
     "iopub.execute_input": "2021-10-22T04:01:47.116216Z",
     "iopub.status.busy": "2021-10-22T04:01:47.095873Z",
     "iopub.status.idle": "2021-10-22T04:01:47.743082Z",
     "shell.execute_reply": "2021-10-22T04:01:47.740307Z",
     "shell.execute_reply.started": "2021-10-21T04:36:54.789596Z"
    },
    "papermill": {
     "duration": 0.862412,
     "end_time": "2021-10-22T04:01:47.743254",
     "exception": false,
     "start_time": "2021-10-22T04:01:46.880842",
     "status": "completed"
    },
    "tags": []
   },
   "outputs": [
    {
     "name": "stdout",
     "output_type": "stream",
     "text": [
      "{'Power Industry': ['Green Energy', 'Non-green Energy'], 'Health Industry': ['Diagnostic', 'Pharma'], 'Manufacturing Industry': ['Production', 'Toys', 'Food', 'Mechanical'], 'Automobile Industry': ['Heavy Vehicles', 'Light Vehicles'], 'Computer Industry': ['Hardware', 'Software', 'Security']} {'Green Energy': 'Power Industry', 'Diagnostic': 'Health Industry', 'Pharma': 'Health Industry', 'Production': 'Manufacturing Industry', 'Heavy Vehicles': 'Automobile Industry', 'Light Vehicles': 'Automobile Industry', 'Non-green Energy': 'Power Industry', 'Hardware': 'Computer Industry', 'Toys': 'Manufacturing Industry', 'Food': 'Manufacturing Industry', 'Mechanical': 'Manufacturing Industry', 'Software': 'Computer Industry', 'Security': 'Computer Industry'}\n"
     ]
    }
   ],
   "source": [
    "# all the industry can be directly predicted if sub categories is known\n",
    "ind_cat={}\n",
    "cat_ind={}\n",
    "for i in range(len(train_data)):\n",
    "    ind=train_data[\"Industry\"].iloc[i]\n",
    "    cat=train_data[\"Sub-category\"].iloc[i]\n",
    "    if ind in ind_cat:\n",
    "        if cat not in ind_cat[ind]:\n",
    "            ind_cat[ind].append(cat)\n",
    "    else:\n",
    "        ind_cat[ind]=[cat]\n",
    "        \n",
    "    if cat not in cat_ind:\n",
    "        cat_ind[cat]=ind\n",
    "        \n",
    "print(ind_cat,cat_ind)"
   ]
  },
  {
   "cell_type": "code",
   "execution_count": 7,
   "id": "29fb7cf9",
   "metadata": {
    "execution": {
     "iopub.execute_input": "2021-10-22T04:01:48.127913Z",
     "iopub.status.busy": "2021-10-22T04:01:48.126725Z",
     "iopub.status.idle": "2021-10-22T04:01:48.146890Z",
     "shell.execute_reply": "2021-10-22T04:01:48.147298Z",
     "shell.execute_reply.started": "2021-10-21T04:36:55.621761Z"
    },
    "papermill": {
     "duration": 0.224008,
     "end_time": "2021-10-22T04:01:48.147455",
     "exception": false,
     "start_time": "2021-10-22T04:01:47.923447",
     "status": "completed"
    },
    "tags": []
   },
   "outputs": [],
   "source": [
    "x=train_data[\"Article\"]\n",
    "y=train_data[\"Sub-category\"]\n",
    "\n",
    "enc1hot = OneHotEncoder(handle_unknown='ignore')\n",
    "enc_ord = OrdinalEncoder()\n",
    "\n",
    "y1hot=enc1hot.fit_transform(y.to_numpy().reshape(-1,1)).toarray()\n",
    "y_ord=enc_ord.fit_transform(y.to_numpy().reshape(-1,1))"
   ]
  },
  {
   "cell_type": "code",
   "execution_count": 8,
   "id": "0e068d70",
   "metadata": {
    "execution": {
     "iopub.execute_input": "2021-10-22T04:01:48.585737Z",
     "iopub.status.busy": "2021-10-22T04:01:48.549131Z",
     "iopub.status.idle": "2021-10-22T04:02:05.923407Z",
     "shell.execute_reply": "2021-10-22T04:02:05.923917Z",
     "shell.execute_reply.started": "2021-10-21T04:36:55.663400Z"
    },
    "papermill": {
     "duration": 17.59836,
     "end_time": "2021-10-22T04:02:05.924095",
     "exception": false,
     "start_time": "2021-10-22T04:01:48.325735",
     "status": "completed"
    },
    "tags": []
   },
   "outputs": [],
   "source": [
    "cnt_vec=CountVectorizer(ngram_range=(1,3),max_features=200)\n",
    "x_vec=cnt_vec.fit_transform(x)"
   ]
  },
  {
   "cell_type": "code",
   "execution_count": 9,
   "id": "cf31fcc9",
   "metadata": {
    "execution": {
     "iopub.execute_input": "2021-10-22T04:02:06.317286Z",
     "iopub.status.busy": "2021-10-22T04:02:06.316658Z",
     "iopub.status.idle": "2021-10-22T04:02:06.319371Z",
     "shell.execute_reply": "2021-10-22T04:02:06.319775Z",
     "shell.execute_reply.started": "2021-10-20T11:35:08.592366Z"
    },
    "papermill": {
     "duration": 0.193705,
     "end_time": "2021-10-22T04:02:06.319908",
     "exception": false,
     "start_time": "2021-10-22T04:02:06.126203",
     "status": "completed"
    },
    "tags": []
   },
   "outputs": [
    {
     "data": {
      "text/plain": [
       "scipy.sparse.csr.csr_matrix"
      ]
     },
     "execution_count": 9,
     "metadata": {},
     "output_type": "execute_result"
    }
   ],
   "source": [
    "type(x_vec)"
   ]
  },
  {
   "cell_type": "code",
   "execution_count": 10,
   "id": "ad997dea",
   "metadata": {
    "execution": {
     "iopub.execute_input": "2021-10-22T04:02:06.691952Z",
     "iopub.status.busy": "2021-10-22T04:02:06.691067Z",
     "iopub.status.idle": "2021-10-22T04:02:06.693657Z",
     "shell.execute_reply": "2021-10-22T04:02:06.693206Z"
    },
    "papermill": {
     "duration": 0.184157,
     "end_time": "2021-10-22T04:02:06.693792",
     "exception": false,
     "start_time": "2021-10-22T04:02:06.509635",
     "status": "completed"
    },
    "tags": []
   },
   "outputs": [],
   "source": [
    "# pca=PCA().fit(x_vec.toarray())\n",
    "# plt.plot(pca2.explained_variance_, linewidth=2)"
   ]
  },
  {
   "cell_type": "code",
   "execution_count": 11,
   "id": "25d84c33",
   "metadata": {
    "execution": {
     "iopub.execute_input": "2021-10-22T04:02:07.058430Z",
     "iopub.status.busy": "2021-10-22T04:02:07.057485Z",
     "iopub.status.idle": "2021-10-22T04:02:07.060192Z",
     "shell.execute_reply": "2021-10-22T04:02:07.059764Z",
     "shell.execute_reply.started": "2021-10-20T08:23:46.338325Z"
    },
    "papermill": {
     "duration": 0.186955,
     "end_time": "2021-10-22T04:02:07.060316",
     "exception": false,
     "start_time": "2021-10-22T04:02:06.873361",
     "status": "completed"
    },
    "tags": []
   },
   "outputs": [],
   "source": [
    "# tokenizer = BertTokenizer.from_pretrained('bert-base-uncased')\n",
    "# xtokens = tokenizer.batch_encode_plus(list(x),add_special_tokens=True,truncation=True,padding=\"max_length\",max_length=max_len,return_attention_mask=False,return_tensors='np')\n",
    "# xtokens"
   ]
  },
  {
   "cell_type": "code",
   "execution_count": 12,
   "id": "dc8cb83f",
   "metadata": {
    "execution": {
     "iopub.execute_input": "2021-10-22T04:02:07.420947Z",
     "iopub.status.busy": "2021-10-22T04:02:07.420067Z",
     "iopub.status.idle": "2021-10-22T04:02:07.422124Z",
     "shell.execute_reply": "2021-10-22T04:02:07.422498Z",
     "shell.execute_reply.started": "2021-10-20T08:26:46.050957Z"
    },
    "papermill": {
     "duration": 0.186187,
     "end_time": "2021-10-22T04:02:07.422639",
     "exception": false,
     "start_time": "2021-10-22T04:02:07.236452",
     "status": "completed"
    },
    "tags": []
   },
   "outputs": [],
   "source": [
    "# x_enc=xtokens['input_ids']\n",
    "# # x_enc=x_enc.reshape((-1,x.shape[1],1))\n",
    "# x_enc.shape"
   ]
  },
  {
   "cell_type": "code",
   "execution_count": 13,
   "id": "3d0098fa",
   "metadata": {
    "execution": {
     "iopub.execute_input": "2021-10-22T04:02:07.779392Z",
     "iopub.status.busy": "2021-10-22T04:02:07.778535Z",
     "iopub.status.idle": "2021-10-22T04:02:07.780986Z",
     "shell.execute_reply": "2021-10-22T04:02:07.780540Z",
     "shell.execute_reply.started": "2021-10-20T05:02:59.919613Z"
    },
    "papermill": {
     "duration": 0.183326,
     "end_time": "2021-10-22T04:02:07.781109",
     "exception": false,
     "start_time": "2021-10-22T04:02:07.597783",
     "status": "completed"
    },
    "tags": []
   },
   "outputs": [],
   "source": [
    "# tokenizer = DistilBertTokenizer.from_pretrained('distilbert-base-uncased')\n",
    "# # bert_model = TFDistilBertModel.from_pretrained('distilbert-base-uncased')\n",
    "# bert_model = TFDistilBertForSequenceClassification.from_pretrained('distilbert-base-uncased',num_labels=13)"
   ]
  },
  {
   "cell_type": "code",
   "execution_count": 14,
   "id": "448c5515",
   "metadata": {
    "execution": {
     "iopub.execute_input": "2021-10-22T04:02:08.146271Z",
     "iopub.status.busy": "2021-10-22T04:02:08.145284Z",
     "iopub.status.idle": "2021-10-22T04:02:08.147180Z",
     "shell.execute_reply": "2021-10-22T04:02:08.147571Z",
     "shell.execute_reply.started": "2021-10-18T11:29:20.69937Z"
    },
    "papermill": {
     "duration": 0.185935,
     "end_time": "2021-10-22T04:02:08.147705",
     "exception": false,
     "start_time": "2021-10-22T04:02:07.961770",
     "status": "completed"
    },
    "tags": []
   },
   "outputs": [],
   "source": [
    "# #tokenization\n",
    "\n",
    "# xtokens = tokenizer.batch_encode_plus(list(x),add_special_tokens=True,truncation=True,padding=\"max_length\",max_length=100,return_attention_mask=True,return_tensors='tf')\n",
    "# xtokens"
   ]
  },
  {
   "cell_type": "code",
   "execution_count": 15,
   "id": "c1b0d212",
   "metadata": {
    "execution": {
     "iopub.execute_input": "2021-10-22T04:02:08.504821Z",
     "iopub.status.busy": "2021-10-22T04:02:08.504089Z",
     "iopub.status.idle": "2021-10-22T04:02:08.507067Z",
     "shell.execute_reply": "2021-10-22T04:02:08.506627Z",
     "shell.execute_reply.started": "2021-10-18T11:29:20.700822Z"
    },
    "papermill": {
     "duration": 0.183204,
     "end_time": "2021-10-22T04:02:08.507190",
     "exception": false,
     "start_time": "2021-10-22T04:02:08.323986",
     "status": "completed"
    },
    "tags": []
   },
   "outputs": [],
   "source": [
    "# BATCH_SIZE = 64  # we will use batches of 32\n",
    "\n",
    "# dataset = tf.data.Dataset.from_tensor_slices((xtokens.input_ids, xtokens.attention_mask, y1hot))\n",
    "\n",
    "# def map_func(input_ids, masks, labels):\n",
    "#     return {'input_ids': input_ids, 'attention_mask': masks}, labels\n",
    "\n",
    "# # using map method to apply map_func to dataset\n",
    "# dataset = dataset.map(map_func)\n",
    "\n",
    "# # shuffle data and batch it\n",
    "# dataset = dataset.shuffle(100000).batch(BATCH_SIZE)\n",
    "\n",
    "# # get the length of the batched dataset\n",
    "# DS_LEN = len([0 for batch in dataset])\n",
    "# SPLIT = 0.9  # 90-10 split\n",
    "\n",
    "# train = dataset.take(round(DS_LEN*SPLIT))  # get first 90% of batches\n",
    "# val = dataset.skip(round(DS_LEN*SPLIT))  # skip first 90% and keep final 10%\n",
    "\n",
    "# del dataset  # optionally, delete dataset to free up disk-space"
   ]
  },
  {
   "cell_type": "code",
   "execution_count": 16,
   "id": "58a900c4",
   "metadata": {
    "execution": {
     "iopub.execute_input": "2021-10-22T04:02:08.867451Z",
     "iopub.status.busy": "2021-10-22T04:02:08.866581Z",
     "iopub.status.idle": "2021-10-22T04:02:08.868378Z",
     "shell.execute_reply": "2021-10-22T04:02:08.868795Z",
     "shell.execute_reply.started": "2021-10-20T04:42:50.990869Z"
    },
    "papermill": {
     "duration": 0.186683,
     "end_time": "2021-10-22T04:02:08.868934",
     "exception": false,
     "start_time": "2021-10-22T04:02:08.682251",
     "status": "completed"
    },
    "tags": []
   },
   "outputs": [],
   "source": [
    "# # #test train split\n",
    "\n",
    "# xtrain,xtest,ytrain,ytest=train_test_split(x,y1hot,test_size=0.3,random_state=7)\n",
    "# print(len(xtrain),len(xtest),len(ytrain),len(ytest))"
   ]
  },
  {
   "cell_type": "code",
   "execution_count": 17,
   "id": "776c27a7",
   "metadata": {
    "execution": {
     "iopub.execute_input": "2021-10-22T04:02:09.230217Z",
     "iopub.status.busy": "2021-10-22T04:02:09.229339Z",
     "iopub.status.idle": "2021-10-22T04:02:09.231406Z",
     "shell.execute_reply": "2021-10-22T04:02:09.231813Z"
    },
    "papermill": {
     "duration": 0.185627,
     "end_time": "2021-10-22T04:02:09.231960",
     "exception": false,
     "start_time": "2021-10-22T04:02:09.046333",
     "status": "completed"
    },
    "tags": []
   },
   "outputs": [],
   "source": [
    "# ##Model\n",
    "\n",
    "# def model():\n",
    "#     input_ids = tf.keras.layers.Input(shape=(), name='input_ids', dtype='int32')\n",
    "#     mask = tf.keras.layers.Input(shape=(), name='attention_mask', dtype='int32')\n",
    "# #     x=tokenizer.encode_plus(x,add_special_tokens=True,truncation=True,padding=\"max_length\",max_length=512,return_attention_mask=True,return_tensors='tf')\n",
    "#     x=bert_model(input_ids, attention_mask=mask)\n",
    "#     x=tf.keras.layers.BatchNormalization()(x.pooler_output)\n",
    "#     x=tf.keras.layers.Dropout(0.25)(x)\n",
    "#     x=tf.keras.layers.Dense(13, activation='softmax')(x)\n",
    "\n",
    "    \n",
    "\n",
    "# deepNN=model()"
   ]
  },
  {
   "cell_type": "code",
   "execution_count": 18,
   "id": "9412d5b6",
   "metadata": {
    "execution": {
     "iopub.execute_input": "2021-10-22T04:02:09.611887Z",
     "iopub.status.busy": "2021-10-22T04:02:09.610868Z",
     "iopub.status.idle": "2021-10-22T04:02:09.613121Z",
     "shell.execute_reply": "2021-10-22T04:02:09.613506Z"
    },
    "papermill": {
     "duration": 0.204816,
     "end_time": "2021-10-22T04:02:09.613652",
     "exception": false,
     "start_time": "2021-10-22T04:02:09.408836",
     "status": "completed"
    },
    "tags": []
   },
   "outputs": [],
   "source": [
    "# #model\n",
    "\n",
    "# input_ids = tf.keras.layers.Input(shape=(512,), name='input_ids', dtype='int32')\n",
    "# mask = tf.keras.layers.Input(shape=(512,), name='attention_mask', dtype='int32')\n",
    "\n",
    "# # we consume the last_hidden_state tensor from bert (discarding pooled_outputs)\n",
    "# X = bert_model(input_ids, attention_mask=mask)\n",
    "\n",
    "# # X = tf.keras.layers.LSTM(64)(X)\n",
    "# X = tf.keras.layers.BatchNormalization()(X.pooler_output)\n",
    "# X = tf.keras.layers.Dense(64, activation='relu')(X)\n",
    "# X = tf.keras.layers.Dropout(0.2)(X)\n",
    "# y = tf.keras.layers.Dense(13, activation='softmax', name='outputs')(X)\n",
    "\n",
    "# # define input and output layers of our model\n",
    "# model = tf.keras.Model(inputs=[input_ids, mask], outputs=y)\n",
    "\n",
    "# # freeze the BERT layer - otherwise we will be training 100M+ parameters...\n",
    "# model.layers[2].trainable = False\n",
    "\n",
    "\n",
    "# optimizer = tf.keras.optimizers.Adam(0.01)\n",
    "# loss = tf.keras.losses.CategoricalCrossentropy()  # categorical = one-hot\n",
    "# acc = tf.keras.metrics.CategoricalAccuracy('accuracy')\n",
    "\n",
    "# model.compile(optimizer=optimizer, loss=loss, metrics=[acc])\n",
    "# callback=tf.keras.callbacks.EarlyStopping(monitor=\"val_acc\",min_delta=0.01,patience=5,restore_best_weights=True)\n",
    "# history = model.fit(train,validation_data=val,batch_size=32,callbacks=[callback],epochs=20,shuffle=True)"
   ]
  },
  {
   "cell_type": "code",
   "execution_count": 19,
   "id": "749a8e20",
   "metadata": {
    "execution": {
     "iopub.execute_input": "2021-10-22T04:02:09.992545Z",
     "iopub.status.busy": "2021-10-22T04:02:09.991491Z",
     "iopub.status.idle": "2021-10-22T04:02:09.993787Z",
     "shell.execute_reply": "2021-10-22T04:02:09.994192Z",
     "shell.execute_reply.started": "2021-10-18T11:29:20.703897Z"
    },
    "papermill": {
     "duration": 0.188704,
     "end_time": "2021-10-22T04:02:09.994339",
     "exception": false,
     "start_time": "2021-10-22T04:02:09.805635",
     "status": "completed"
    },
    "tags": []
   },
   "outputs": [],
   "source": [
    "# optimizer = tf.keras.optimizers.Adam(0.01)\n",
    "# loss = tf.keras.losses.CategoricalCrossentropy()  # categorical = one-hot\n",
    "# acc = tf.keras.metrics.CategoricalAccuracy('accuracy')\n",
    "\n",
    "\n",
    "# bert_model.compile(optimizer=optimizer, loss=loss, metrics=[acc])\n",
    "# callback=tf.keras.callbacks.EarlyStopping(monitor=\"val_acc\",min_delta=0.01,patience=5,restore_best_weights=True)\n",
    "# history = bert_model.fit(train,validation_data=val,batch_size=64,callbacks=[callback],epochs=20,shuffle=True)"
   ]
  },
  {
   "cell_type": "code",
   "execution_count": 20,
   "id": "40a8a031",
   "metadata": {
    "execution": {
     "iopub.execute_input": "2021-10-22T04:02:10.354326Z",
     "iopub.status.busy": "2021-10-22T04:02:10.353542Z",
     "iopub.status.idle": "2021-10-22T04:02:10.356030Z",
     "shell.execute_reply": "2021-10-22T04:02:10.355593Z",
     "shell.execute_reply.started": "2021-10-21T04:39:38.988239Z"
    },
    "papermill": {
     "duration": 0.186249,
     "end_time": "2021-10-22T04:02:10.356151",
     "exception": false,
     "start_time": "2021-10-22T04:02:10.169902",
     "status": "completed"
    },
    "tags": []
   },
   "outputs": [],
   "source": [
    "# lstm\n",
    "\n",
    "\n",
    "def LSTM_model():\n",
    "    model=Sequential()\n",
    "    model.add(layers.Embedding(200,256))\n",
    "#     model.add(LSTM(256,activation='tanh',recurrent_activation='sigmoid',dropout=0.25,recurrent_dropout=0.25,return_sequences=True,input_shape=(None,1)))\n",
    "#     model.add(layers.Bidirectional(layers.LSTM(64,activation='tanh',recurrent_activation='sigmoid',dropout=0.25,recurrent_dropout=0.25)))\n",
    "    model.add(layers.LSTM(64,activation='tanh',recurrent_activation='sigmoid',dropout=0.25,recurrent_dropout=0.25))\n",
    "#     model.add(layers.Dense(64,activation='tanh'))\n",
    "#     model.add(layers.Dropout(0.25))\n",
    "#     model.add(layers.BatchNormalization())\n",
    "    model.add(layers.Dense(13,activation='softmax'))\n",
    "    \n",
    "    model.compile(loss='categorical_crossentropy',optimizer='adam',metrics=['accuracy'])\n",
    "    \n",
    "    return model"
   ]
  },
  {
   "cell_type": "code",
   "execution_count": 21,
   "id": "695b30d0",
   "metadata": {
    "execution": {
     "iopub.execute_input": "2021-10-22T04:02:10.715090Z",
     "iopub.status.busy": "2021-10-22T04:02:10.713074Z",
     "iopub.status.idle": "2021-10-22T04:02:10.970477Z",
     "shell.execute_reply": "2021-10-22T04:02:10.971080Z",
     "shell.execute_reply.started": "2021-10-21T04:39:44.689257Z"
    },
    "papermill": {
     "duration": 0.439787,
     "end_time": "2021-10-22T04:02:10.971277",
     "exception": false,
     "start_time": "2021-10-22T04:02:10.531490",
     "status": "completed"
    },
    "tags": []
   },
   "outputs": [
    {
     "name": "stdout",
     "output_type": "stream",
     "text": [
      "Model: \"sequential\"\n",
      "_________________________________________________________________\n",
      "Layer (type)                 Output Shape              Param #   \n",
      "=================================================================\n",
      "embedding (Embedding)        (None, None, 256)         51200     \n",
      "_________________________________________________________________\n",
      "lstm (LSTM)                  (None, 64)                82176     \n",
      "_________________________________________________________________\n",
      "dense (Dense)                (None, 13)                845       \n",
      "=================================================================\n",
      "Total params: 134,221\n",
      "Trainable params: 134,221\n",
      "Non-trainable params: 0\n",
      "_________________________________________________________________\n"
     ]
    },
    {
     "name": "stderr",
     "output_type": "stream",
     "text": [
      "2021-10-22 04:02:10.763834: I tensorflow/stream_executor/cuda/cuda_gpu_executor.cc:937] successful NUMA node read from SysFS had negative value (-1), but there must be at least one NUMA node, so returning NUMA node zero\n",
      "2021-10-22 04:02:10.811959: W tensorflow/stream_executor/platform/default/dso_loader.cc:64] Could not load dynamic library 'libcusolver.so.11'; dlerror: libcusolver.so.11: cannot open shared object file: No such file or directory; LD_LIBRARY_PATH: /usr/local/nvidia/lib64:/usr/local/cuda/lib64:/opt/conda/lib\n",
      "2021-10-22 04:02:10.823099: W tensorflow/core/common_runtime/gpu/gpu_device.cc:1835] Cannot dlopen some GPU libraries. Please make sure the missing libraries mentioned above are installed properly if you would like to use GPU. Follow the guide at https://www.tensorflow.org/install/gpu for how to download and setup the required libraries for your platform.\n",
      "Skipping registering GPU devices...\n",
      "2021-10-22 04:02:10.824248: I tensorflow/core/platform/cpu_feature_guard.cc:142] This TensorFlow binary is optimized with oneAPI Deep Neural Network Library (oneDNN) to use the following CPU instructions in performance-critical operations:  AVX2 AVX512F FMA\n",
      "To enable them in other operations, rebuild TensorFlow with the appropriate compiler flags.\n"
     ]
    }
   ],
   "source": [
    "model=LSTM_model()\n",
    "model.summary()"
   ]
  },
  {
   "cell_type": "code",
   "execution_count": 22,
   "id": "9e72f37d",
   "metadata": {
    "execution": {
     "iopub.execute_input": "2021-10-22T04:02:11.352528Z",
     "iopub.status.busy": "2021-10-22T04:02:11.351589Z",
     "iopub.status.idle": "2021-10-22T11:18:01.849036Z",
     "shell.execute_reply": "2021-10-22T11:18:01.849455Z"
    },
    "papermill": {
     "duration": 26150.699577,
     "end_time": "2021-10-22T11:18:01.849633",
     "exception": false,
     "start_time": "2021-10-22T04:02:11.150056",
     "status": "completed"
    },
    "tags": []
   },
   "outputs": [
    {
     "name": "stderr",
     "output_type": "stream",
     "text": [
      "2021-10-22 04:02:11.665826: I tensorflow/compiler/mlir/mlir_graph_optimization_pass.cc:185] None of the MLIR Optimization Passes are enabled (registered 2)\n"
     ]
    },
    {
     "name": "stdout",
     "output_type": "stream",
     "text": [
      "Epoch 1/300\n",
      "398/398 [==============================] - 241s 600ms/step - loss: 2.4210 - accuracy: 0.1654 - val_loss: 2.3300 - val_accuracy: 0.1910\n",
      "Epoch 2/300\n",
      "398/398 [==============================] - 234s 589ms/step - loss: 2.2309 - accuracy: 0.2330 - val_loss: 2.1349 - val_accuracy: 0.2705\n",
      "Epoch 3/300\n",
      "398/398 [==============================] - 231s 581ms/step - loss: 2.0465 - accuracy: 0.2862 - val_loss: 1.9596 - val_accuracy: 0.3125\n",
      "Epoch 4/300\n",
      "398/398 [==============================] - 231s 581ms/step - loss: 1.9448 - accuracy: 0.3169 - val_loss: 1.8486 - val_accuracy: 0.3513\n",
      "Epoch 5/300\n",
      "398/398 [==============================] - 233s 586ms/step - loss: 1.8722 - accuracy: 0.3386 - val_loss: 1.8214 - val_accuracy: 0.3559\n",
      "Epoch 6/300\n",
      "398/398 [==============================] - 238s 597ms/step - loss: 1.8062 - accuracy: 0.3522 - val_loss: 1.7219 - val_accuracy: 0.3840\n",
      "Epoch 7/300\n",
      "398/398 [==============================] - 238s 598ms/step - loss: 1.7449 - accuracy: 0.3688 - val_loss: 1.7598 - val_accuracy: 0.3710\n",
      "Epoch 8/300\n",
      "398/398 [==============================] - 240s 603ms/step - loss: 1.6842 - accuracy: 0.3821 - val_loss: 1.6104 - val_accuracy: 0.4031\n",
      "Epoch 9/300\n",
      "398/398 [==============================] - 238s 599ms/step - loss: 1.6335 - accuracy: 0.3930 - val_loss: 1.5625 - val_accuracy: 0.4139\n",
      "Epoch 10/300\n",
      "398/398 [==============================] - 244s 613ms/step - loss: 1.5793 - accuracy: 0.4066 - val_loss: 1.4951 - val_accuracy: 0.4424\n",
      "Epoch 11/300\n",
      "398/398 [==============================] - 239s 601ms/step - loss: 1.5458 - accuracy: 0.4173 - val_loss: 1.4855 - val_accuracy: 0.4357\n",
      "Epoch 12/300\n",
      "398/398 [==============================] - 232s 584ms/step - loss: 1.5119 - accuracy: 0.4293 - val_loss: 1.4778 - val_accuracy: 0.4437\n",
      "Epoch 13/300\n",
      "398/398 [==============================] - 215s 540ms/step - loss: 1.4780 - accuracy: 0.4337 - val_loss: 1.3860 - val_accuracy: 0.4676\n",
      "Epoch 14/300\n",
      "398/398 [==============================] - 213s 535ms/step - loss: 1.4509 - accuracy: 0.4486 - val_loss: 1.3831 - val_accuracy: 0.4701\n",
      "Epoch 15/300\n",
      "398/398 [==============================] - 213s 535ms/step - loss: 1.4454 - accuracy: 0.4461 - val_loss: 1.4727 - val_accuracy: 0.4493\n",
      "Epoch 16/300\n",
      "398/398 [==============================] - 213s 535ms/step - loss: 1.4186 - accuracy: 0.4566 - val_loss: 1.4082 - val_accuracy: 0.4633\n",
      "Epoch 17/300\n",
      "398/398 [==============================] - 223s 560ms/step - loss: 1.4007 - accuracy: 0.4599 - val_loss: 1.3322 - val_accuracy: 0.4777\n",
      "Epoch 18/300\n",
      "398/398 [==============================] - 216s 542ms/step - loss: 1.3860 - accuracy: 0.4616 - val_loss: 1.3651 - val_accuracy: 0.4745\n",
      "Epoch 19/300\n",
      "398/398 [==============================] - 221s 555ms/step - loss: 1.3705 - accuracy: 0.4691 - val_loss: 1.3197 - val_accuracy: 0.4846\n",
      "Epoch 20/300\n",
      "398/398 [==============================] - 229s 574ms/step - loss: 1.3553 - accuracy: 0.4739 - val_loss: 1.2664 - val_accuracy: 0.4994\n",
      "Epoch 21/300\n",
      "398/398 [==============================] - 234s 587ms/step - loss: 1.3497 - accuracy: 0.4773 - val_loss: 1.3089 - val_accuracy: 0.4895\n",
      "Epoch 22/300\n",
      "398/398 [==============================] - 240s 604ms/step - loss: 1.3431 - accuracy: 0.4766 - val_loss: 1.2571 - val_accuracy: 0.5145\n",
      "Epoch 23/300\n",
      "398/398 [==============================] - 242s 607ms/step - loss: 1.3184 - accuracy: 0.4851 - val_loss: 1.2815 - val_accuracy: 0.4998\n",
      "Epoch 24/300\n",
      "398/398 [==============================] - 239s 602ms/step - loss: 1.3126 - accuracy: 0.4920 - val_loss: 1.2495 - val_accuracy: 0.5074\n",
      "Epoch 25/300\n",
      "398/398 [==============================] - 237s 596ms/step - loss: 1.2941 - accuracy: 0.4929 - val_loss: 1.2102 - val_accuracy: 0.5245\n",
      "Epoch 26/300\n",
      "398/398 [==============================] - 242s 608ms/step - loss: 1.2879 - accuracy: 0.4972 - val_loss: 1.2277 - val_accuracy: 0.5201\n",
      "Epoch 27/300\n",
      "398/398 [==============================] - 241s 604ms/step - loss: 1.2750 - accuracy: 0.5001 - val_loss: 1.2418 - val_accuracy: 0.5123\n",
      "Epoch 28/300\n",
      "398/398 [==============================] - 241s 605ms/step - loss: 1.2645 - accuracy: 0.5069 - val_loss: 1.2141 - val_accuracy: 0.5216\n",
      "Epoch 29/300\n",
      "398/398 [==============================] - 233s 585ms/step - loss: 1.2525 - accuracy: 0.5086 - val_loss: 1.2250 - val_accuracy: 0.5253\n",
      "Epoch 30/300\n",
      "398/398 [==============================] - 225s 565ms/step - loss: 1.2433 - accuracy: 0.5112 - val_loss: 1.2282 - val_accuracy: 0.5116\n",
      "Epoch 31/300\n",
      "398/398 [==============================] - 221s 554ms/step - loss: 1.2399 - accuracy: 0.5128 - val_loss: 1.1995 - val_accuracy: 0.5360\n",
      "Epoch 32/300\n",
      "398/398 [==============================] - 219s 550ms/step - loss: 1.2317 - accuracy: 0.5121 - val_loss: 1.1736 - val_accuracy: 0.5341\n",
      "Epoch 33/300\n",
      "398/398 [==============================] - 220s 552ms/step - loss: 1.2288 - accuracy: 0.5139 - val_loss: 1.1812 - val_accuracy: 0.5329\n",
      "Epoch 34/300\n",
      "398/398 [==============================] - 232s 584ms/step - loss: 1.2064 - accuracy: 0.5254 - val_loss: 1.1608 - val_accuracy: 0.5492\n",
      "Epoch 35/300\n",
      "398/398 [==============================] - 233s 587ms/step - loss: 1.2039 - accuracy: 0.5223 - val_loss: 1.1266 - val_accuracy: 0.5447\n",
      "Epoch 36/300\n",
      "398/398 [==============================] - 234s 589ms/step - loss: 1.2049 - accuracy: 0.5267 - val_loss: 1.1737 - val_accuracy: 0.5345\n",
      "Epoch 37/300\n",
      "398/398 [==============================] - 235s 591ms/step - loss: 1.1874 - accuracy: 0.5305 - val_loss: 1.1628 - val_accuracy: 0.5374\n",
      "Epoch 38/300\n",
      "398/398 [==============================] - 241s 606ms/step - loss: 1.1844 - accuracy: 0.5293 - val_loss: 1.1959 - val_accuracy: 0.5360\n",
      "Epoch 39/300\n",
      "398/398 [==============================] - 231s 581ms/step - loss: 1.1834 - accuracy: 0.5289 - val_loss: 1.1273 - val_accuracy: 0.5538\n",
      "Epoch 40/300\n",
      "398/398 [==============================] - 235s 591ms/step - loss: 1.1746 - accuracy: 0.5303 - val_loss: 1.1760 - val_accuracy: 0.5365\n",
      "Epoch 41/300\n",
      "398/398 [==============================] - 237s 595ms/step - loss: 1.1666 - accuracy: 0.5363 - val_loss: 1.1183 - val_accuracy: 0.5592\n",
      "Epoch 42/300\n",
      "398/398 [==============================] - 237s 595ms/step - loss: 1.1640 - accuracy: 0.5364 - val_loss: 1.1189 - val_accuracy: 0.5554\n",
      "Epoch 43/300\n",
      "398/398 [==============================] - 243s 611ms/step - loss: 1.1572 - accuracy: 0.5393 - val_loss: 1.1348 - val_accuracy: 0.5574\n",
      "Epoch 44/300\n",
      "398/398 [==============================] - 250s 628ms/step - loss: 1.1471 - accuracy: 0.5422 - val_loss: 1.1038 - val_accuracy: 0.5598\n",
      "Epoch 45/300\n",
      "398/398 [==============================] - 246s 618ms/step - loss: 1.1517 - accuracy: 0.5412 - val_loss: 1.1074 - val_accuracy: 0.5650\n",
      "Epoch 46/300\n",
      "398/398 [==============================] - 251s 632ms/step - loss: 1.1367 - accuracy: 0.5462 - val_loss: 1.0798 - val_accuracy: 0.5666\n",
      "Epoch 47/300\n",
      "398/398 [==============================] - 233s 587ms/step - loss: 1.1269 - accuracy: 0.5499 - val_loss: 1.0979 - val_accuracy: 0.5592\n",
      "Epoch 48/300\n",
      "398/398 [==============================] - 238s 597ms/step - loss: 1.1251 - accuracy: 0.5476 - val_loss: 1.0779 - val_accuracy: 0.5692\n",
      "Epoch 49/300\n",
      "398/398 [==============================] - 239s 600ms/step - loss: 1.1197 - accuracy: 0.5532 - val_loss: 1.0829 - val_accuracy: 0.5667\n",
      "Epoch 50/300\n",
      "398/398 [==============================] - 239s 599ms/step - loss: 1.1099 - accuracy: 0.5573 - val_loss: 1.0808 - val_accuracy: 0.5750\n",
      "Epoch 51/300\n",
      "398/398 [==============================] - 222s 558ms/step - loss: 1.1062 - accuracy: 0.5572 - val_loss: 1.1108 - val_accuracy: 0.5584\n",
      "Epoch 52/300\n",
      "398/398 [==============================] - 230s 579ms/step - loss: 1.1023 - accuracy: 0.5532 - val_loss: 1.0836 - val_accuracy: 0.5692\n",
      "Epoch 53/300\n",
      "398/398 [==============================] - 228s 574ms/step - loss: 1.0942 - accuracy: 0.5582 - val_loss: 1.0556 - val_accuracy: 0.5771\n",
      "Epoch 54/300\n",
      "398/398 [==============================] - 223s 561ms/step - loss: 1.0917 - accuracy: 0.5569 - val_loss: 1.0625 - val_accuracy: 0.5736\n",
      "Epoch 55/300\n",
      "398/398 [==============================] - 227s 571ms/step - loss: 1.0810 - accuracy: 0.5626 - val_loss: 1.0495 - val_accuracy: 0.5788\n",
      "Epoch 56/300\n",
      "398/398 [==============================] - 224s 564ms/step - loss: 1.0714 - accuracy: 0.5667 - val_loss: 1.0668 - val_accuracy: 0.5706\n",
      "Epoch 57/300\n",
      "398/398 [==============================] - 214s 538ms/step - loss: 1.0773 - accuracy: 0.5655 - val_loss: 1.0368 - val_accuracy: 0.5824\n",
      "Epoch 58/300\n",
      "398/398 [==============================] - 226s 569ms/step - loss: 1.0659 - accuracy: 0.5663 - val_loss: 1.0152 - val_accuracy: 0.5884\n",
      "Epoch 59/300\n",
      "398/398 [==============================] - 224s 564ms/step - loss: 1.0632 - accuracy: 0.5707 - val_loss: 1.0108 - val_accuracy: 0.5839\n",
      "Epoch 60/300\n",
      "398/398 [==============================] - 220s 554ms/step - loss: 1.0532 - accuracy: 0.5731 - val_loss: 1.0197 - val_accuracy: 0.5875\n",
      "Epoch 61/300\n",
      "398/398 [==============================] - 238s 598ms/step - loss: 1.0480 - accuracy: 0.5751 - val_loss: 1.0389 - val_accuracy: 0.5774\n",
      "Epoch 62/300\n",
      "398/398 [==============================] - 229s 575ms/step - loss: 1.0437 - accuracy: 0.5740 - val_loss: 0.9913 - val_accuracy: 0.5939\n",
      "Epoch 63/300\n",
      "398/398 [==============================] - 221s 554ms/step - loss: 1.0419 - accuracy: 0.5771 - val_loss: 1.0285 - val_accuracy: 0.5870\n",
      "Epoch 64/300\n",
      "398/398 [==============================] - 232s 584ms/step - loss: 1.0397 - accuracy: 0.5747 - val_loss: 0.9915 - val_accuracy: 0.5942\n",
      "Epoch 65/300\n",
      "398/398 [==============================] - 238s 598ms/step - loss: 1.0365 - accuracy: 0.5810 - val_loss: 1.0568 - val_accuracy: 0.5754\n",
      "Epoch 66/300\n",
      "398/398 [==============================] - 244s 614ms/step - loss: 1.0289 - accuracy: 0.5792 - val_loss: 1.0001 - val_accuracy: 0.5889\n",
      "Epoch 67/300\n",
      "398/398 [==============================] - 235s 592ms/step - loss: 1.0232 - accuracy: 0.5808 - val_loss: 0.9836 - val_accuracy: 0.5990\n",
      "Epoch 68/300\n",
      "398/398 [==============================] - 244s 613ms/step - loss: 1.0256 - accuracy: 0.5784 - val_loss: 1.0085 - val_accuracy: 0.5906\n",
      "Epoch 69/300\n",
      "398/398 [==============================] - 239s 600ms/step - loss: 1.0170 - accuracy: 0.5835 - val_loss: 0.9977 - val_accuracy: 0.5949\n",
      "Epoch 70/300\n",
      "398/398 [==============================] - 224s 562ms/step - loss: 1.0146 - accuracy: 0.5857 - val_loss: 0.9904 - val_accuracy: 0.5971\n",
      "Epoch 71/300\n",
      "398/398 [==============================] - 234s 589ms/step - loss: 1.0079 - accuracy: 0.5881 - val_loss: 0.9836 - val_accuracy: 0.6010\n",
      "Epoch 72/300\n",
      "398/398 [==============================] - 231s 580ms/step - loss: 1.0037 - accuracy: 0.5855 - val_loss: 0.9846 - val_accuracy: 0.5986\n",
      "Epoch 73/300\n",
      "398/398 [==============================] - 225s 565ms/step - loss: 1.0054 - accuracy: 0.5857 - val_loss: 1.0060 - val_accuracy: 0.5980\n",
      "Epoch 74/300\n",
      "398/398 [==============================] - 235s 590ms/step - loss: 1.0077 - accuracy: 0.5813 - val_loss: 0.9884 - val_accuracy: 0.5947\n",
      "Epoch 75/300\n",
      "398/398 [==============================] - 246s 620ms/step - loss: 1.0107 - accuracy: 0.5845 - val_loss: 0.9731 - val_accuracy: 0.6024\n",
      "Epoch 76/300\n",
      "398/398 [==============================] - 251s 631ms/step - loss: 0.9978 - accuracy: 0.5872 - val_loss: 1.0138 - val_accuracy: 0.5905\n",
      "Epoch 77/300\n",
      "398/398 [==============================] - 246s 619ms/step - loss: 0.9960 - accuracy: 0.5915 - val_loss: 0.9742 - val_accuracy: 0.6007\n",
      "Epoch 78/300\n",
      "398/398 [==============================] - 244s 613ms/step - loss: 0.9838 - accuracy: 0.5963 - val_loss: 0.9872 - val_accuracy: 0.6042\n",
      "Epoch 79/300\n",
      "398/398 [==============================] - 249s 625ms/step - loss: 0.9924 - accuracy: 0.5917 - val_loss: 0.9753 - val_accuracy: 0.6071\n",
      "Epoch 80/300\n",
      "398/398 [==============================] - 242s 608ms/step - loss: 0.9871 - accuracy: 0.5947 - val_loss: 1.0116 - val_accuracy: 0.5952\n",
      "Epoch 81/300\n",
      "398/398 [==============================] - 234s 587ms/step - loss: 0.9884 - accuracy: 0.5915 - val_loss: 0.9772 - val_accuracy: 0.6027\n",
      "Epoch 82/300\n",
      "398/398 [==============================] - 236s 592ms/step - loss: 0.9842 - accuracy: 0.5920 - val_loss: 0.9600 - val_accuracy: 0.6056\n",
      "Epoch 83/300\n",
      "398/398 [==============================] - 222s 559ms/step - loss: 0.9822 - accuracy: 0.5951 - val_loss: 0.9667 - val_accuracy: 0.6104\n",
      "Epoch 84/300\n",
      "398/398 [==============================] - 231s 581ms/step - loss: 0.9742 - accuracy: 0.5996 - val_loss: 0.9981 - val_accuracy: 0.6010\n",
      "Epoch 85/300\n",
      "398/398 [==============================] - 235s 590ms/step - loss: 0.9729 - accuracy: 0.5975 - val_loss: 0.9663 - val_accuracy: 0.6015\n",
      "Epoch 86/300\n",
      "398/398 [==============================] - 220s 553ms/step - loss: 0.9695 - accuracy: 0.5989 - val_loss: 0.9523 - val_accuracy: 0.6087\n",
      "Epoch 87/300\n",
      "398/398 [==============================] - 226s 567ms/step - loss: 0.9655 - accuracy: 0.5973 - val_loss: 0.9515 - val_accuracy: 0.6076\n",
      "Epoch 88/300\n",
      "398/398 [==============================] - 219s 549ms/step - loss: 0.9701 - accuracy: 0.5951 - val_loss: 0.9648 - val_accuracy: 0.6115\n",
      "Epoch 89/300\n",
      "398/398 [==============================] - 227s 571ms/step - loss: 0.9644 - accuracy: 0.5983 - val_loss: 0.9528 - val_accuracy: 0.6090\n",
      "Epoch 90/300\n",
      "398/398 [==============================] - 224s 562ms/step - loss: 0.9643 - accuracy: 0.6002 - val_loss: 0.9704 - val_accuracy: 0.6051\n",
      "Epoch 91/300\n",
      "398/398 [==============================] - 223s 560ms/step - loss: 0.9615 - accuracy: 0.6021 - val_loss: 0.9690 - val_accuracy: 0.6024\n",
      "Epoch 92/300\n",
      "398/398 [==============================] - 235s 592ms/step - loss: 0.9622 - accuracy: 0.5996 - val_loss: 0.9405 - val_accuracy: 0.6097\n",
      "Epoch 93/300\n",
      "398/398 [==============================] - 224s 563ms/step - loss: 0.9615 - accuracy: 0.5976 - val_loss: 0.9881 - val_accuracy: 0.5996\n",
      "Epoch 94/300\n",
      "398/398 [==============================] - 231s 580ms/step - loss: 0.9666 - accuracy: 0.6022 - val_loss: 0.9502 - val_accuracy: 0.6108\n",
      "Epoch 95/300\n",
      "398/398 [==============================] - 228s 572ms/step - loss: 0.9557 - accuracy: 0.5985 - val_loss: 0.9629 - val_accuracy: 0.6092\n",
      "Epoch 96/300\n",
      "398/398 [==============================] - 228s 573ms/step - loss: 0.9532 - accuracy: 0.6031 - val_loss: 0.9942 - val_accuracy: 0.5996\n",
      "Epoch 97/300\n",
      "398/398 [==============================] - 231s 580ms/step - loss: 0.9532 - accuracy: 0.6002 - val_loss: 0.9550 - val_accuracy: 0.6062\n",
      "Epoch 98/300\n",
      "398/398 [==============================] - 221s 555ms/step - loss: 0.9468 - accuracy: 0.6051 - val_loss: 0.9480 - val_accuracy: 0.6095\n",
      "Epoch 99/300\n",
      "398/398 [==============================] - 234s 588ms/step - loss: 0.9513 - accuracy: 0.6024 - val_loss: 0.9540 - val_accuracy: 0.6095\n",
      "Epoch 100/300\n",
      "398/398 [==============================] - 219s 551ms/step - loss: 0.9481 - accuracy: 0.6021 - val_loss: 0.9280 - val_accuracy: 0.6108\n",
      "Epoch 101/300\n",
      "398/398 [==============================] - 228s 574ms/step - loss: 0.9489 - accuracy: 0.6040 - val_loss: 0.9571 - val_accuracy: 0.6079\n",
      "Epoch 102/300\n",
      "398/398 [==============================] - 219s 551ms/step - loss: 0.9457 - accuracy: 0.6034 - val_loss: 0.9621 - val_accuracy: 0.6073\n",
      "Epoch 103/300\n",
      "398/398 [==============================] - 226s 566ms/step - loss: 0.9496 - accuracy: 0.6019 - val_loss: 0.9723 - val_accuracy: 0.6087\n",
      "Epoch 104/300\n",
      "398/398 [==============================] - 225s 565ms/step - loss: 0.9416 - accuracy: 0.6070 - val_loss: 0.9611 - val_accuracy: 0.6046\n",
      "Epoch 105/300\n",
      "398/398 [==============================] - 222s 558ms/step - loss: 0.9428 - accuracy: 0.6081 - val_loss: 0.9469 - val_accuracy: 0.6160\n",
      "Epoch 106/300\n",
      "398/398 [==============================] - 231s 581ms/step - loss: 0.9402 - accuracy: 0.6091 - val_loss: 0.9334 - val_accuracy: 0.6167\n",
      "Epoch 107/300\n",
      "398/398 [==============================] - 220s 553ms/step - loss: 0.9343 - accuracy: 0.6070 - val_loss: 0.9466 - val_accuracy: 0.6142\n",
      "Epoch 108/300\n",
      "398/398 [==============================] - 235s 591ms/step - loss: 0.9426 - accuracy: 0.6067 - val_loss: 0.9529 - val_accuracy: 0.6120\n",
      "Epoch 109/300\n",
      "398/398 [==============================] - 224s 564ms/step - loss: 0.9339 - accuracy: 0.6070 - val_loss: 0.9392 - val_accuracy: 0.6172\n",
      "Epoch 110/300\n",
      "398/398 [==============================] - 237s 595ms/step - loss: 0.9425 - accuracy: 0.6083 - val_loss: 0.9208 - val_accuracy: 0.6182\n",
      "Epoch 111/300\n",
      "398/398 [==============================] - 228s 573ms/step - loss: 0.9381 - accuracy: 0.6064 - val_loss: 0.9451 - val_accuracy: 0.6101\n",
      "Epoch 112/300\n",
      "398/398 [==============================] - 228s 574ms/step - loss: 0.9361 - accuracy: 0.6104 - val_loss: 0.9604 - val_accuracy: 0.6059\n",
      "Epoch 113/300\n",
      "398/398 [==============================] - 219s 551ms/step - loss: 0.9355 - accuracy: 0.6093 - val_loss: 0.9387 - val_accuracy: 0.6087\n"
     ]
    }
   ],
   "source": [
    "callback=tf.keras.callbacks.EarlyStopping(monitor=\"val_accuracy\",min_delta=0.01,patience=30,restore_best_weights=True)\n",
    "history = model.fit(x_vec.toarray(),y1hot,batch_size=64,callbacks=[callback],epochs=300,shuffle=True,validation_split=0.2)"
   ]
  },
  {
   "cell_type": "code",
   "execution_count": 23,
   "id": "08afccb7",
   "metadata": {
    "execution": {
     "iopub.execute_input": "2021-10-22T11:18:26.270860Z",
     "iopub.status.busy": "2021-10-22T11:18:26.270262Z",
     "iopub.status.idle": "2021-10-22T11:18:36.394514Z",
     "shell.execute_reply": "2021-10-22T11:18:36.395054Z",
     "shell.execute_reply.started": "2021-10-20T05:22:58.948835Z"
    },
    "papermill": {
     "duration": 22.347081,
     "end_time": "2021-10-22T11:18:36.395209",
     "exception": false,
     "start_time": "2021-10-22T11:18:14.048128",
     "status": "completed"
    },
    "tags": []
   },
   "outputs": [
    {
     "data": {
      "image/png": "[encoded data removed]",
      "text/plain": [
       "<Figure size 432x288 with 1 Axes>"
      ]
     },
     "metadata": {
      "needs_background": "light"
     },
     "output_type": "display_data"
    },
    {
     "data": {
      "image/png": "[encoded data removed]",
      "text/plain": [
       "<Figure size 432x288 with 1 Axes>"
      ]
     },
     "metadata": {
      "needs_background": "light"
     },
     "output_type": "display_data"
    }
   ],
   "source": [
    "plt.plot(history.history['loss'])\n",
    "plt.plot(history.history['val_loss'])\n",
    "plt.title('Model Loss')\n",
    "plt.ylabel('Loss')\n",
    "plt.xlabel('Epoch')\n",
    "plt.legend(['Train','Validation'])\n",
    "plt.show()\n",
    "\n",
    "plt.plot(history.history['accuracy'])\n",
    "plt.plot(history.history['val_accuracy'])\n",
    "plt.title('Model Accuracy')\n",
    "plt.ylabel('Accuracy')\n",
    "plt.xlabel('Epoch')\n",
    "plt.legend(['Train','Validation'])\n",
    "plt.show()"
   ]
  },
  {
   "cell_type": "code",
   "execution_count": null,
   "id": "cbd10711",
   "metadata": {
    "papermill": {
     "duration": 12.797165,
     "end_time": "2021-10-22T11:19:01.475839",
     "exception": false,
     "start_time": "2021-10-22T11:18:48.678674",
     "status": "completed"
    },
    "tags": []
   },
   "outputs": [],
   "source": []
  }
 ],
 "metadata": {
  "kernelspec": {
   "display_name": "Python 3",
   "language": "python",
   "name": "python3"
  },
  "language_info": {
   "codemirror_mode": {
    "name": "ipython",
    "version": 3
   },
   "file_extension": ".py",
   "mimetype": "text/x-python",
   "name": "python",
   "nbconvert_exporter": "python",
   "pygments_lexer": "ipython3",
   "version": "3.7.10"
  },
  "papermill": {
   "default_parameters": {},
   "duration": 26332.989666,
   "end_time": "2021-10-22T11:19:17.106563",
   "environment_variables": {},
   "exception": null,
   "input_path": "__notebook__.ipynb",
   "output_path": "__notebook__.ipynb",
   "parameters": {},
   "start_time": "2021-10-22T04:00:24.116897",
   "version": "2.3.3"
  }
 },
 "nbformat": 4,
 "nbformat_minor": 5
}
